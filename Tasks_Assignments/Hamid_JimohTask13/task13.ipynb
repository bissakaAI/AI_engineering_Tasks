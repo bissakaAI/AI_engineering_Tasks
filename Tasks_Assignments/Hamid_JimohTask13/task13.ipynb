{
 "cells": [
  {
   "cell_type": "code",
   "execution_count": 1,
   "id": "7576fdd7",
   "metadata": {},
   "outputs": [
    {
     "name": "stdout",
     "output_type": "stream",
     "text": [
      "Numpy Version: 2.2.0\n"
     ]
    }
   ],
   "source": [
    "import numpy as np\n",
    "import random\n",
    "\n",
    "#check Numpy version\n",
    "print(f\"Numpy Version: {np.__version__}\" )\n",
    "\n",
    "#display settings for cleaner output \n",
    "np.set_printoptions(precision=3, suppress=True)"
   ]
  },
  {
   "cell_type": "markdown",
   "id": "8799bbf0",
   "metadata": {},
   "source": [
    "QUESTION 1"
   ]
  },
  {
   "cell_type": "markdown",
   "id": "bd576737",
   "metadata": {},
   "source": [
    "**Create a 6x6 NumPy array with random integers between 1 and 50. Display the array.**"
   ]
  },
  {
   "cell_type": "code",
   "execution_count": 5,
   "id": "2ebaa241",
   "metadata": {},
   "outputs": [
    {
     "name": "stdout",
     "output_type": "stream",
     "text": [
      "[[48 35 12 42 10  6]\n",
      " [ 9 43  6 10 38 44]\n",
      " [ 9 17 11 44 40  7]\n",
      " [12 44 17 19 41 45]\n",
      " [13 14 39 33 40 14]\n",
      " [45 33 42  2  0  6]]\n"
     ]
    }
   ],
   "source": [
    "arr= np.random.randint(50,size=(6,6))\n",
    "print(arr)"
   ]
  },
  {
   "cell_type": "markdown",
   "id": "7b522e88",
   "metadata": {},
   "source": [
    "Question 2"
   ]
  },
  {
   "cell_type": "code",
   "execution_count": null,
   "id": "fc2b4981",
   "metadata": {},
   "outputs": [
    {
     "name": "stdout",
     "output_type": "stream",
     "text": [
      "first 2 rows:  [[48 35 12 42 10  6]\n",
      " [ 9 43  6 10 38 44]]\n",
      "last three colums:  [[42 10  6]\n",
      " [10 38 44]\n",
      " [44 40  7]\n",
      " [19 41 45]\n",
      " [33 40 14]\n",
      " [ 2  0  6]]\n"
     ]
    }
   ],
   "source": [
    "print(\"first 2 rows: \", arr[:2])\n",
    "print(\"last three colums: \", arr[:,3:])\n",
    "print (\"even numbers: \", arr[arr % 2 == 0])"
   ]
  },
  {
   "cell_type": "markdown",
   "id": "c92a4606",
   "metadata": {},
   "source": [
    "Question 3"
   ]
  },
  {
   "cell_type": "code",
   "execution_count": 13,
   "id": "27b1320d",
   "metadata": {},
   "outputs": [
    {
     "name": "stdout",
     "output_type": "stream",
     "text": [
      "The redhaped array is [[[48 35 12 42 10  6]\n",
      "  [ 9 43  6 10 38 44]]\n",
      "\n",
      " [[ 9 17 11 44 40  7]\n",
      "  [12 44 17 19 41 45]]\n",
      "\n",
      " [[13 14 39 33 40 14]\n",
      "  [45 33 42  2  0  6]]]\n",
      "the flattened reshaped array [48 35 12 42 10  6  9 43  6 10 38 44  9 17 11 44 40  7 12 44 17 19 41 45\n",
      " 13 14 39 33 40 14 45 33 42  2  0  6]\n"
     ]
    }
   ],
   "source": [
    "reshaped_array3d = arr.reshape(3,2,6)\n",
    "print(\"The redhaped array is\", reshaped_array3d)\n",
    "\n",
    "flatreshaped= reshaped_array3d.flatten()\n",
    "print(\"the flattened reshaped array\", flatreshaped)"
   ]
  },
  {
   "cell_type": "markdown",
   "id": "bca40afe",
   "metadata": {},
   "source": [
    "Question 4"
   ]
  },
  {
   "cell_type": "code",
   "execution_count": 2,
   "id": "24d1d731",
   "metadata": {},
   "outputs": [
    {
     "name": "stdout",
     "output_type": "stream",
     "text": [
      "[[1. 0. 0. 0.]\n",
      " [0. 1. 0. 0.]\n",
      " [0. 0. 1. 0.]\n",
      " [0. 0. 0. 1.]]\n",
      "[[10.  0.  0.  0.]\n",
      " [ 0. 20.  0.  0.]\n",
      " [ 0.  0. 30.  0.]\n",
      " [ 0.  0.  0. 10.]]\n"
     ]
    }
   ],
   "source": [
    "identity_matrix = np.eye(4)\n",
    "print(identity_matrix)\n",
    "diagonal_array = np.arange(10,40,10)\n",
    "diagonal_matrix  = np.array(diagonal_array)\n",
    "np.fill_diagonal(identity_matrix,diagonal_array)\n",
    "print(identity_matrix)"
   ]
  },
  {
   "cell_type": "markdown",
   "id": "5d17aecd",
   "metadata": {},
   "source": [
    "Question 5"
   ]
  },
  {
   "cell_type": "code",
   "execution_count": 8,
   "id": "c0b7beb4",
   "metadata": {},
   "outputs": [
    {
     "name": "stdout",
     "output_type": "stream",
     "text": [
      "The product of the two matrices is :\n",
      " [[116 182 118]\n",
      " [134 189 153]\n",
      " [107 136 133]]\n"
     ]
    }
   ],
   "source": [
    "arr1 = np.random.randint(1,10,size=(3,4))\n",
    "arr2 = np.random.randint(1,10,size=(4,3))\n",
    "product = np.dot(arr1,arr2)\n",
    "\n",
    "print(\"The product of the two matrices is :\\n\",product)"
   ]
  },
  {
   "cell_type": "markdown",
   "id": "fb4ec529",
   "metadata": {},
   "source": [
    "Question 6"
   ]
  },
  {
   "cell_type": "code",
   "execution_count": 11,
   "id": "ec558cf7",
   "metadata": {},
   "outputs": [
    {
     "name": "stdout",
     "output_type": "stream",
     "text": [
      "array before converting:\n",
      " [[1 2 4]\n",
      " [5 7 8]\n",
      " [9 1 3]]\n",
      "New array:\n",
      " [[-1  4 16]\n",
      " [-1 -1 64]\n",
      " [-1 -1 -1]]\n"
     ]
    }
   ],
   "source": [
    "#a function that takes a 2d array as input and squares the even number and also changes odd numbers to -1\n",
    "def TwoDarray(twoDarray):\n",
    "    newarray= np.where(twoDarray%2 ==0,twoDarray**2,-1)\n",
    "    return newarray\n",
    "#ask the user for how many rows the matrix is \n",
    "x= int(input(\"how many rows should it be\"))\n",
    "y= int(input(\"how many column should it be\"))\n",
    "numberOfelements= x*y\n",
    "array =[]\n",
    "for i in range(1,numberOfelements+1):\n",
    "    thenumber= int(input(\"the numbers\"))\n",
    "    array.append(thenumber)\n",
    "\n",
    "readyarray=np.array(array).reshape(x,y)\n",
    "print(\"array before converting:\\n\",readyarray)\n",
    "print(\"New array:\\n\", TwoDarray(readyarray))"
   ]
  }
 ],
 "metadata": {
  "kernelspec": {
   "display_name": "Python 3",
   "language": "python",
   "name": "python3"
  },
  "language_info": {
   "codemirror_mode": {
    "name": "ipython",
    "version": 3
   },
   "file_extension": ".py",
   "mimetype": "text/x-python",
   "name": "python",
   "nbconvert_exporter": "python",
   "pygments_lexer": "ipython3",
   "version": "3.12.4"
  }
 },
 "nbformat": 4,
 "nbformat_minor": 5
}
