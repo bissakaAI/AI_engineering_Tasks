{
 "cells": [
  {
   "cell_type": "code",
   "execution_count": 4,
   "id": "47c0fb45",
   "metadata": {},
   "outputs": [],
   "source": [
    "# Import the necessary libraries\n",
    "\n",
    "#libraries for data wrangling\n",
    "import pandas as pd\n",
    "import numpy as np\n",
    "\n",
    "#libraries for visualization\n",
    "import matplotlib.pyplot as plt\n",
    "import seaborn as sns\n",
    "\n",
    "#libraries for time\n",
    "from datetime import datetime, timedelta\n",
    "\n",
    "#ignore warnings\n",
    "import warnings\n",
    "warnings.filterwarnings('ignore')\n",
    "\n",
    "#set up views\n",
    "pd.set_option('display.max_columns', None)\n",
    "pd.set_option('display.width', 1000)"
   ]
  },
  {
   "cell_type": "code",
   "execution_count": 5,
   "id": "43ea212e",
   "metadata": {},
   "outputs": [],
   "source": [
    "# # Load  the data\n",
    "# data_path = r\"archive.zip\" # I am using relative path\n",
    "# df = pd.read_csv(data_path, low_memory=True,compression='zip') # This is how to load zipped csv file\n",
    "# df.tail()"
   ]
  },
  {
   "cell_type": "code",
   "execution_count": 6,
   "id": "11c2829d",
   "metadata": {},
   "outputs": [],
   "source": [
    "# df=pd.read_csv('Crimes_-_2001_to_Present.csv')"
   ]
  },
  {
   "cell_type": "code",
   "execution_count": 7,
   "id": "cbcb72e1",
   "metadata": {},
   "outputs": [
    {
     "data": {
      "text/plain": [
       "data            ada\n",
       "age              23\n",
       "ethnicity    Yoruba\n",
       "dtype: object"
      ]
     },
     "execution_count": 7,
     "metadata": {},
     "output_type": "execute_result"
    }
   ],
   "source": [
    "data = {'data':'ada','age':23,'ethnicity': 'Yoruba'}\n",
    "pd.Series(data)"
   ]
  },
  {
   "cell_type": "markdown",
   "id": "3601bffd",
   "metadata": {},
   "source": [
    "it has 7784664 rows and 22 columns "
   ]
  },
  {
   "cell_type": "code",
   "execution_count": 8,
   "id": "4571b410",
   "metadata": {},
   "outputs": [],
   "source": [
    "# Lets write a function to load the full dataset (7M+ records) or just a specified samples.\n",
    "# The  idea behind this is just to reduce memory usage for the dataset to also load faster.\n",
    "# Take your time to understand the function, what I did and why I did so.\n",
    "\n",
    "def load_chicago_crime_data(data_path, sample_size=None):\n",
    "    \"\"\"\n",
    "    Optimized loading function for Chicago crime data\n",
    "    \"\"\"\n",
    "    # Define data types to reduce memory usage\n",
    "    dtype_dict = {\n",
    "        'ID': 'Int32',\n",
    "        'Case Number': 'string',\n",
    "        'IUCR': 'category',\n",
    "        'Primary Type': 'category',\n",
    "        'Description': 'category',\n",
    "        'Location Description': 'category',\n",
    "        'Arrest': 'bool',\n",
    "        'Domestic': 'bool',\n",
    "        'Beat': 'Int16',\n",
    "        'District': 'Int8',\n",
    "        'Ward': 'Int8',\n",
    "        'Community Area': 'Int8',\n",
    "        'FBI Code': 'category',\n",
    "        'X Coordinate': 'float32',\n",
    "        'Y Coordinate': 'float32',\n",
    "        'Latitude': 'float32',\n",
    "        'Longitude': 'float32'\n",
    "    }\n",
    "    \n",
    "    # Parse dates during loading\n",
    "    date_cols = ['Date', 'Updated On']\n",
    "    \n",
    "    if sample_size:\n",
    "        # Load random sample for faster analysis\n",
    "        df = pd.read_csv(data_path, \n",
    "                        dtype=dtype_dict,\n",
    "                        parse_dates=date_cols,\n",
    "                        low_memory=False, keep_default_na=True, nrows = sample_size) # you can use \".sample(n=sample_size)\" as well.\n",
    "    else:\n",
    "        df = pd.read_csv(data_path, \n",
    "                        dtype=dtype_dict,\n",
    "                        parse_dates=date_cols,\n",
    "                        low_memory=False, keep_default_na=True)\n",
    "        df.to_parquet('crimes.parquet',index=False)\n",
    "    \n",
    "    return df\n",
    "\n",
    "# I would load this and comment it out..."
   ]
  },
  {
   "cell_type": "code",
   "execution_count": null,
   "id": "d8256d98",
   "metadata": {},
   "outputs": [],
   "source": [
    "df=load_chicago_crime_data('Crimes_-_2001_to_Present.csv')"
   ]
  },
  {
   "cell_type": "markdown",
   "id": "fd1cc336",
   "metadata": {},
   "source": [
    "Checking how many unique values we have in each columns \n"
   ]
  },
  {
   "cell_type": "code",
   "execution_count": null,
   "id": "47606577",
   "metadata": {},
   "outputs": [
    {
     "name": "stdout",
     "output_type": "stream",
     "text": [
      "Column Name \t\t\t\t\t number of unique rows\n",
      "ID\t\t\t\t\t 100000\n",
      "Case Number\t\t\t\t\t 100000\n",
      "Date\t\t\t\t\t 45627\n",
      "Block\t\t\t\t\t 22305\n",
      "IUCR\t\t\t\t\t 307\n",
      "Primary Type\t\t\t\t\t 33\n",
      "Description\t\t\t\t\t 322\n",
      "Location Description\t\t\t\t\t 118\n",
      "Arrest\t\t\t\t\t 2\n",
      "Domestic\t\t\t\t\t 2\n",
      "Beat\t\t\t\t\t 274\n",
      "District\t\t\t\t\t 23\n",
      "Ward\t\t\t\t\t 50\n",
      "Community Area\t\t\t\t\t 77\n",
      "FBI Code\t\t\t\t\t 25\n",
      "X Coordinate\t\t\t\t\t 36856\n",
      "Y Coordinate\t\t\t\t\t 45837\n",
      "Year\t\t\t\t\t 20\n",
      "Updated On\t\t\t\t\t 562\n",
      "Latitude\t\t\t\t\t 40741\n",
      "Longitude\t\t\t\t\t 24169\n",
      "Location\t\t\t\t\t 64174\n"
     ]
    }
   ],
   "source": [
    "print('Column Name \\t\\t\\t\\t\\t number of unique rows')\n",
    "for i in list(df.columns):\n",
    "    unirow=df[i].nunique()\n",
    "    print(f'{i}\\t\\t\\t\\t\\t {unirow}')"
   ]
  },
  {
   "cell_type": "markdown",
   "id": "14bec2e6",
   "metadata": {},
   "source": [
    "i want to know more about the icur and blocks ,primary type,year,fbi code,community areA, an all other columns where unique number of rows is < 200 000"
   ]
  },
  {
   "cell_type": "code",
   "execution_count": null,
   "id": "f258fcfc",
   "metadata": {},
   "outputs": [
    {
     "name": "stdout",
     "output_type": "stream",
     "text": [
      "===================================\n",
      "     =====Unique ID =====\n",
      "===================================\n",
      "<IntegerArray>\n",
      "[10224738, 10224739, 11646166, 10224740, 10224741, 10224742, 10224743, 10224744, 10224745, 11645836,\n",
      " ...\n",
      " 10215490, 10215491, 10215493, 11261630, 11262256, 10215495, 10215496, 10215497, 10215498, 10215499]\n",
      "Length: 100000, dtype: Int32\n",
      "===================================\n",
      "     =====Unique Case Number =====\n",
      "===================================\n",
      "<StringArray>\n",
      "['HY411648', 'HY411615', 'JC213529', 'HY411595', 'HY411610', 'HY411435', 'HY411629', 'HY411605', 'HY411654', 'JC212333',\n",
      " ...\n",
      " 'HY401677', 'HY401628', 'HY401576', 'JB192986', 'JB193886', 'HY401397', 'HY401545', 'HY401614', 'HY401663', 'HY401688']\n",
      "Length: 100000, dtype: string\n",
      "===================================\n",
      "     =====Unique Date =====\n",
      "===================================\n",
      "<DatetimeArray>\n",
      "['2015-09-05 13:30:00', '2015-09-04 11:30:00', '2018-09-01 00:01:00', '2015-09-05 12:45:00', '2015-09-05 13:00:00', '2015-09-05 10:55:00', '2015-09-04 18:00:00', '2015-09-05 11:30:00', '2016-05-01 00:25:00', '2015-09-05 14:00:00',\n",
      " ...\n",
      " '2015-08-29 03:23:00', '2015-08-29 02:04:00', '2015-08-29 05:32:00', '2015-08-29 05:05:00', '2018-07-27 19:44:31', '2015-08-29 04:10:00', '2013-08-03 00:01:00', '2015-08-29 01:36:00', '2015-08-29 03:52:00', '2015-08-29 05:10:00']\n",
      "Length: 45627, dtype: datetime64[ns]\n",
      "===================================\n",
      "     =====Unique Block =====\n",
      "===================================\n",
      "['043XX S WOOD ST' '008XX N CENTRAL AVE' '082XX S INGLESIDE AVE' ...\n",
      " '085XX S AVALON AVE' '002XX N KENTON AVE' '079XX S WINCHESTER AVE']\n",
      "===================================\n",
      "     =====Unique IUCR =====\n",
      "===================================\n",
      "['0486', '0870', '0810', '2023', '0560', ..., '1525', '3751', '0452', '0551', '0585']\n",
      "Length: 307\n",
      "Categories (307, object): ['0142', '0261', '0263', '0264', ..., '5114', '5130', '5131', '5132']\n",
      "===================================\n",
      "     =====Unique Primary Type =====\n",
      "===================================\n",
      "['BATTERY', 'THEFT', 'NARCOTICS', 'ASSAULT', 'BURGLARY', ..., 'OBSCENITY', 'PUBLIC INDECENCY', 'OTHER NARCOTIC VIOLATION', 'NON-CRIMINAL', 'HOMICIDE']\n",
      "Length: 33\n",
      "Categories (33, object): ['ARSON', 'ASSAULT', 'BATTERY', 'BURGLARY', ..., 'SEX OFFENSE', 'STALKING', 'THEFT', 'WEAPONS VIOLATION']\n",
      "===================================\n",
      "     =====Unique Description =====\n",
      "===================================\n",
      "['DOMESTIC BATTERY SIMPLE', 'POCKET-PICKING', 'OVER $500', 'POSS: HEROIN(BRN/TAN)', 'SIMPLE', ..., 'POSSESS - CANNABIS MORE THAN 30 GRAMS', 'POSSESS - COCAINE', 'ARMED - OTHER DANGEROUS WEAPON', 'NOTIFICATION OF STALKING - NO CONTACT ORDER', 'MANUFACTURE / DELIVER -  HEROIN (WHITE)']\n",
      "Length: 322\n",
      "Categories (322, object): ['$500 AND UNDER', 'ABUSE/NEGLECT: CARE FACILITY', 'AGG CRIM SEX ABUSE FAM MEMBER', 'AGG CRIMINAL SEXUAL ABUSE', ..., 'VIOLATION OF STALKING NO CONTACT ORDER', 'VIOLENT OFFENDER: ANNUAL REGISTRATION', 'VIOLENT OFFENDER: DUTY TO REGISTER', 'VIOLENT OFFENDER: FAIL TO REGISTER NEW ADDRESS']\n",
      "===================================\n",
      "     =====Unique Location Description =====\n",
      "===================================\n",
      "['RESIDENCE', 'CTA BUS', 'SIDEWALK', 'APARTMENT', 'RESIDENCE-GARAGE', ..., 'FACTORY / MANUFACTURING BUILDING', 'HOSPITAL BUILDING / GROUNDS', 'MOVIE HOUSE / THEATER', 'CHA PARKING LOT / GROUNDS', 'HOTEL / MOTEL']\n",
      "Length: 119\n",
      "Categories (118, object): ['ABANDONED BUILDING', 'AIRCRAFT', 'AIRPORT BUILDING NON-TERMINAL - NON-SECURE AREA', 'AIRPORT BUILDING NON-TERMINAL - SECURE AREA', ..., 'VEHICLE - OTHER RIDE SHARE SERVICE (LYFT, UBE..., 'VEHICLE NON-COMMERCIAL', 'VEHICLE-COMMERCIAL', 'WAREHOUSE']\n",
      "===================================\n",
      "     =====Unique Arrest =====\n",
      "===================================\n",
      "[False  True]\n",
      "===================================\n",
      "     =====Unique Domestic =====\n",
      "===================================\n",
      "[ True False]\n",
      "===================================\n",
      "     =====Unique Beat =====\n",
      "===================================\n",
      "<IntegerArray>\n",
      "[ 924, 1511,  631, 1412, 1522,  614, 1434, 1034, 1222,  824,\n",
      " ...\n",
      "  314,  433, 1613, 1653, 1414, 2012, 1621, 1731, 1652, 1655]\n",
      "Length: 274, dtype: Int16\n",
      "===================================\n",
      "     =====Unique District =====\n",
      "===================================\n",
      "<IntegerArray>\n",
      "[9, 15, 6, 14, 10, 12, 8, 16, 5, 2, 4, 22, 3, 1, 7, 11, 17, 20, 25, 18, 19, 24, 31]\n",
      "Length: 23, dtype: Int8\n",
      "===================================\n",
      "     =====Unique Ward =====\n",
      "===================================\n",
      "<IntegerArray>\n",
      "[12, 29, 8, 35, 28, 21, 32, 25, 27, 15, 13, 45, 34, 4, 1, 10, 38, 5, 7, 2, 20, 39, 24, 40, 6, 37, 16, 3, 42, 46, 23, 9, 19, 50, 44, 47, 11, 48, 49, 26, 33, 22, 30, 18, 43, 31, 36, 17, 14, 41, <NA>]\n",
      "Length: 51, dtype: Int8\n",
      "===================================\n",
      "     =====Unique Community Area =====\n",
      "===================================\n",
      "<IntegerArray>\n",
      "[61, 25, 44, 21, 71, 24, 31, 27, 63, 65, 11, 49, 39, 51, 15, 52, 12, 43, 46, 32, 68, 14, 29, 2, 69, 23, 35, 8, 3, 6, 56, 28, 53, 50, 33, 13, 74, 19, 45, 72, 22, 64, 7, 5, 26, 66, 59, 77, 1, 10, 67, 38, 41, 60, 30, 54, 58, 48, 73, 70, 40, 34, 16, 18, 4, 17, 42, 37, 75, 62, 20, 57, 76, 47, <NA>, 9, 36, 55]\n",
      "Length: 78, dtype: Int8\n",
      "===================================\n",
      "     =====Unique FBI Code =====\n",
      "===================================\n",
      "['08B', '06', '18', '08A', '05', ..., '22', '09', '12', '13', '01B']\n",
      "Length: 25\n",
      "Categories (25, object): ['01B', '02', '03', '04A', ..., '20', '22', '24', '26']\n",
      "===================================\n",
      "     =====Unique X Coordinate =====\n",
      "===================================\n",
      "[1.165074e+06 1.138875e+06          nan ... 1.158698e+06 1.153154e+06\n",
      " 1.169805e+06]\n",
      "===================================\n",
      "     =====Unique Y Coordinate =====\n",
      "===================================\n",
      "[1.875917e+06 1.904869e+06          nan ... 1.898481e+06 1.929328e+06\n",
      " 1.921288e+06]\n",
      "===================================\n",
      "     =====Unique Year =====\n",
      "===================================\n",
      "[2015 2018 2016 2014 2001 2020 2019 2021 2012 2017 2013 2011 2007 2003\n",
      " 2010 2008 2009 2002 2005 2006]\n",
      "===================================\n",
      "     =====Unique Updated On =====\n",
      "===================================\n",
      "<DatetimeArray>\n",
      "['2018-02-10 15:50:01', '2019-04-06 16:04:43', '2015-09-17 11:37:18', '2017-08-05 15:50:08', '2020-03-25 15:45:43', '2015-11-25 15:57:58', '2015-09-10 11:43:14', '2019-10-20 15:56:02', '2019-10-20 16:03:03', '2022-09-12 16:45:45',\n",
      " ...\n",
      " '2017-07-23 15:47:59', '2017-07-26 15:54:52', '2018-01-17 15:54:05', '2017-07-15 15:49:29', '2018-03-21 16:01:31', '2017-08-17 15:52:13', '2019-10-08 16:12:30', '2019-04-02 16:03:03', '2019-04-02 16:10:50', '2017-07-16 15:51:39']\n",
      "Length: 562, dtype: datetime64[ns]\n",
      "===================================\n",
      "     =====Unique Latitude =====\n",
      "===================================\n",
      "[41.815117 41.89508        nan ... 41.87683  41.939865 41.793827]\n",
      "===================================\n",
      "     =====Unique Longitude =====\n",
      "===================================\n",
      "[-87.67     -87.7654          nan ... -87.61503  -87.61131  -87.798584]\n",
      "===================================\n",
      "     =====Unique Location =====\n",
      "===================================\n",
      "['(41.815117282, -87.669999562)' '(41.895080471, -87.765400451)' nan ...\n",
      " '(41.961911365, -87.709493728)' '(41.939864288, -87.712520442)'\n",
      " '(41.793825753, -87.652869806)']\n"
     ]
    }
   ],
   "source": [
    "for i in list(df.columns):\n",
    "    if df[i].nunique() <= 200000 :\n",
    "        print('===================================')\n",
    "        print(f'     =====Unique {i} =====')\n",
    "        print('===================================')\n",
    "\n",
    "        unirow=df[i].unique()\n",
    "        print(unirow)"
   ]
  },
  {
   "cell_type": "markdown",
   "id": "3628d178",
   "metadata": {},
   "source": [
    "we have 45627 unique dates which means that some incidents occured  on the same day,and time"
   ]
  },
  {
   "cell_type": "code",
   "execution_count": null,
   "id": "0c269b4b",
   "metadata": {},
   "outputs": [],
   "source": [
    "def analyze_missingdata(df):\n",
    "        missing_data = pd.DataFrame({\n",
    "                'Column': df.columns,\n",
    "                'Missing_Count': df.isnull().sum(),\n",
    "                'Missing_Percentage': (df.isnull().sum() / len(df)) * 100,\n",
    "                'Data_Type': df.dtypes})\n",
    "        \n",
    "        missing_data = missing_data[missing_data['Missing_Count'] > 0].sort_values('Missing_Percentage', ascending=False)\n",
    "        print(\"=== MISSING DATA ANALYSIS ===\")\n",
    "        print(missing_data)\n",
    "        # Visualize missing data\n",
    "        plt.figure(figsize=(12, 6))\n",
    "        if not missing_data.empty:\n",
    "                plt.bar(missing_data['Column'], missing_data['Missing_Percentage'])\n",
    "                plt.title('Missing Data by Column')\n",
    "                plt.xlabel('Columns')\n",
    "                plt.ylabel('Missing Percentage (%)')\n",
    "                plt.xticks(rotation=45)\n",
    "                plt.tight_layout()\n",
    "                plt.show()\n",
    "        else:\n",
    "                print(\"No missing data found!\")\n",
    "        missingcol = list(missing_data.index)\n",
    "        for i in missingcol:\n",
    "                if (df[i].dtype != object) and (df[i].dtype != bool and (df[i].dtype != 'category')):\n",
    "                        maxval =df[i].max()\n",
    "                        minval =df[i].min()\n",
    "                        print('max value is : ',maxval)\n",
    "                        print('min value is : ',minval)\n",
    "                        print(f'mean for {i} is {df[i].mean()}')\n",
    "                        print(f'median for {i} is {df[i].median()}')\n",
    "                else:\n",
    "                        print(f'column {i} is an object type column')"
   ]
  },
  {
   "cell_type": "code",
   "execution_count": null,
   "id": "c544c468",
   "metadata": {},
   "outputs": [
    {
     "name": "stdout",
     "output_type": "stream",
     "text": [
      "=== MISSING DATA ANALYSIS ===\n",
      "                                    Column  Missing_Count  Missing_Percentage Data_Type\n",
      "X Coordinate                  X Coordinate           2231               2.231   float32\n",
      "Longitude                        Longitude           2231               2.231   float32\n",
      "Latitude                          Latitude           2231               2.231   float32\n",
      "Y Coordinate                  Y Coordinate           2231               2.231   float32\n",
      "Location                          Location           2231               2.231    object\n",
      "Location Description  Location Description            271               0.271  category\n",
      "Community Area              Community Area              4               0.004      Int8\n",
      "Ward                                  Ward              4               0.004      Int8\n"
     ]
    },
    {
     "data": {
      "image/png": "[encoded data removed]",
      "text/plain": [
       "<Figure size 1200x600 with 1 Axes>"
      ]
     },
     "metadata": {},
     "output_type": "display_data"
    },
    {
     "name": "stdout",
     "output_type": "stream",
     "text": [
      "max value is :  1.205111e+06\n",
      "min value is :  1.094231e+06\n",
      "mean for X Coordinate is 1164595.375\n",
      "median for X Coordinate is 1166246.0\n",
      "max value is :  -87.52461\n",
      "min value is :  -87.92891\n",
      "mean for Longitude is -87.6715316772461\n",
      "median for Longitude is -87.6654281616211\n",
      "max value is :  42.02255\n",
      "min value is :  41.644604\n",
      "mean for Latitude is 41.84221267700195\n",
      "median for Latitude is 41.85845947265625\n",
      "max value is :  1.951507e+06\n",
      "min value is :  1.81391e+06\n",
      "mean for Y Coordinate is 1885792.875\n",
      "median for Y Coordinate is 1891648.0\n",
      "column Location is an object type column\n",
      "column Location Description is an object type column\n",
      "max value is :  77\n",
      "min value is :  1\n",
      "mean for Community Area is 37.35879435177407\n",
      "median for Community Area is 32.0\n",
      "max value is :  50\n",
      "min value is :  1\n",
      "mean for Ward is 22.88470538821553\n",
      "median for Ward is 23.0\n"
     ]
    }
   ],
   "source": [
    "analyze_missingdata(df)"
   ]
  },
  {
   "cell_type": "code",
   "execution_count": null,
   "id": "d5576322",
   "metadata": {},
   "outputs": [
    {
     "data": {
      "text/plain": [
       "ID                               Int32\n",
       "Case Number             string[python]\n",
       "Date                    datetime64[ns]\n",
       "Block                           object\n",
       "IUCR                          category\n",
       "Primary Type                  category\n",
       "Description                   category\n",
       "Location Description          category\n",
       "Arrest                            bool\n",
       "Domestic                          bool\n",
       "Beat                             Int16\n",
       "District                          Int8\n",
       "Ward                              Int8\n",
       "Community Area                    Int8\n",
       "FBI Code                      category\n",
       "X Coordinate                   float32\n",
       "Y Coordinate                   float32\n",
       "Year                             int64\n",
       "Updated On              datetime64[ns]\n",
       "Latitude                       float32\n",
       "Longitude                      float32\n",
       "Location                        object\n",
       "dtype: object"
      ]
     },
     "execution_count": 76,
     "metadata": {},
     "output_type": "execute_result"
    }
   ],
   "source": [
    "df.dtypes"
   ]
  },
  {
   "cell_type": "code",
   "execution_count": null,
   "id": "1c8d07fe",
   "metadata": {},
   "outputs": [
    {
     "data": {
      "text/html": [
       "<div>\n",
       "<style scoped>\n",
       "    .dataframe tbody tr th:only-of-type {\n",
       "        vertical-align: middle;\n",
       "    }\n",
       "\n",
       "    .dataframe tbody tr th {\n",
       "        vertical-align: top;\n",
       "    }\n",
       "\n",
       "    .dataframe thead th {\n",
       "        text-align: right;\n",
       "    }\n",
       "</style>\n",
       "<table border=\"1\" class=\"dataframe\">\n",
       "  <thead>\n",
       "    <tr style=\"text-align: right;\">\n",
       "      <th></th>\n",
       "      <th>ID</th>\n",
       "      <th>Case Number</th>\n",
       "      <th>Block</th>\n",
       "      <th>IUCR</th>\n",
       "      <th>Primary Type</th>\n",
       "      <th>Description</th>\n",
       "      <th>Location Description</th>\n",
       "      <th>Arrest</th>\n",
       "      <th>Domestic</th>\n",
       "      <th>Beat</th>\n",
       "      <th>District</th>\n",
       "      <th>Ward</th>\n",
       "      <th>Community Area</th>\n",
       "      <th>FBI Code</th>\n",
       "      <th>X Coordinate</th>\n",
       "      <th>Y Coordinate</th>\n",
       "      <th>Year</th>\n",
       "      <th>Updated On</th>\n",
       "      <th>Latitude</th>\n",
       "      <th>Longitude</th>\n",
       "      <th>Location</th>\n",
       "    </tr>\n",
       "    <tr>\n",
       "      <th>Date</th>\n",
       "      <th></th>\n",
       "      <th></th>\n",
       "      <th></th>\n",
       "      <th></th>\n",
       "      <th></th>\n",
       "      <th></th>\n",
       "      <th></th>\n",
       "      <th></th>\n",
       "      <th></th>\n",
       "      <th></th>\n",
       "      <th></th>\n",
       "      <th></th>\n",
       "      <th></th>\n",
       "      <th></th>\n",
       "      <th></th>\n",
       "      <th></th>\n",
       "      <th></th>\n",
       "      <th></th>\n",
       "      <th></th>\n",
       "      <th></th>\n",
       "      <th></th>\n",
       "    </tr>\n",
       "  </thead>\n",
       "  <tbody>\n",
       "    <tr>\n",
       "      <th>2015-09-05 13:30:00</th>\n",
       "      <td>10224738</td>\n",
       "      <td>HY411648</td>\n",
       "      <td>043XX S WOOD ST</td>\n",
       "      <td>0486</td>\n",
       "      <td>BATTERY</td>\n",
       "      <td>DOMESTIC BATTERY SIMPLE</td>\n",
       "      <td>RESIDENCE</td>\n",
       "      <td>False</td>\n",
       "      <td>True</td>\n",
       "      <td>924</td>\n",
       "      <td>9</td>\n",
       "      <td>12</td>\n",
       "      <td>61</td>\n",
       "      <td>08B</td>\n",
       "      <td>1165074.0</td>\n",
       "      <td>1875917.0</td>\n",
       "      <td>2015</td>\n",
       "      <td>2018-02-10 15:50:01</td>\n",
       "      <td>41.815117</td>\n",
       "      <td>-87.669998</td>\n",
       "      <td>(41.815117282, -87.669999562)</td>\n",
       "    </tr>\n",
       "    <tr>\n",
       "      <th>2015-09-04 11:30:00</th>\n",
       "      <td>10224739</td>\n",
       "      <td>HY411615</td>\n",
       "      <td>008XX N CENTRAL AVE</td>\n",
       "      <td>0870</td>\n",
       "      <td>THEFT</td>\n",
       "      <td>POCKET-PICKING</td>\n",
       "      <td>CTA BUS</td>\n",
       "      <td>False</td>\n",
       "      <td>False</td>\n",
       "      <td>1511</td>\n",
       "      <td>15</td>\n",
       "      <td>29</td>\n",
       "      <td>25</td>\n",
       "      <td>06</td>\n",
       "      <td>1138875.0</td>\n",
       "      <td>1904869.0</td>\n",
       "      <td>2015</td>\n",
       "      <td>2018-02-10 15:50:01</td>\n",
       "      <td>41.895081</td>\n",
       "      <td>-87.765404</td>\n",
       "      <td>(41.895080471, -87.765400451)</td>\n",
       "    </tr>\n",
       "    <tr>\n",
       "      <th>2018-09-01 00:01:00</th>\n",
       "      <td>11646166</td>\n",
       "      <td>JC213529</td>\n",
       "      <td>082XX S INGLESIDE AVE</td>\n",
       "      <td>0810</td>\n",
       "      <td>THEFT</td>\n",
       "      <td>OVER $500</td>\n",
       "      <td>RESIDENCE</td>\n",
       "      <td>False</td>\n",
       "      <td>True</td>\n",
       "      <td>631</td>\n",
       "      <td>6</td>\n",
       "      <td>8</td>\n",
       "      <td>44</td>\n",
       "      <td>06</td>\n",
       "      <td>NaN</td>\n",
       "      <td>NaN</td>\n",
       "      <td>2018</td>\n",
       "      <td>2019-04-06 16:04:43</td>\n",
       "      <td>NaN</td>\n",
       "      <td>NaN</td>\n",
       "      <td>NaN</td>\n",
       "    </tr>\n",
       "    <tr>\n",
       "      <th>2015-09-05 12:45:00</th>\n",
       "      <td>10224740</td>\n",
       "      <td>HY411595</td>\n",
       "      <td>035XX W BARRY AVE</td>\n",
       "      <td>2023</td>\n",
       "      <td>NARCOTICS</td>\n",
       "      <td>POSS: HEROIN(BRN/TAN)</td>\n",
       "      <td>SIDEWALK</td>\n",
       "      <td>True</td>\n",
       "      <td>False</td>\n",
       "      <td>1412</td>\n",
       "      <td>14</td>\n",
       "      <td>35</td>\n",
       "      <td>21</td>\n",
       "      <td>18</td>\n",
       "      <td>1152037.0</td>\n",
       "      <td>1920384.0</td>\n",
       "      <td>2015</td>\n",
       "      <td>2018-02-10 15:50:01</td>\n",
       "      <td>41.937405</td>\n",
       "      <td>-87.716652</td>\n",
       "      <td>(41.937405765, -87.716649687)</td>\n",
       "    </tr>\n",
       "    <tr>\n",
       "      <th>2015-09-05 13:00:00</th>\n",
       "      <td>10224741</td>\n",
       "      <td>HY411610</td>\n",
       "      <td>0000X N LARAMIE AVE</td>\n",
       "      <td>0560</td>\n",
       "      <td>ASSAULT</td>\n",
       "      <td>SIMPLE</td>\n",
       "      <td>APARTMENT</td>\n",
       "      <td>False</td>\n",
       "      <td>True</td>\n",
       "      <td>1522</td>\n",
       "      <td>15</td>\n",
       "      <td>28</td>\n",
       "      <td>25</td>\n",
       "      <td>08A</td>\n",
       "      <td>1141706.0</td>\n",
       "      <td>1900086.0</td>\n",
       "      <td>2015</td>\n",
       "      <td>2018-02-10 15:50:01</td>\n",
       "      <td>41.881905</td>\n",
       "      <td>-87.755119</td>\n",
       "      <td>(41.881903443, -87.755121152)</td>\n",
       "    </tr>\n",
       "    <tr>\n",
       "      <th>...</th>\n",
       "      <td>...</td>\n",
       "      <td>...</td>\n",
       "      <td>...</td>\n",
       "      <td>...</td>\n",
       "      <td>...</td>\n",
       "      <td>...</td>\n",
       "      <td>...</td>\n",
       "      <td>...</td>\n",
       "      <td>...</td>\n",
       "      <td>...</td>\n",
       "      <td>...</td>\n",
       "      <td>...</td>\n",
       "      <td>...</td>\n",
       "      <td>...</td>\n",
       "      <td>...</td>\n",
       "      <td>...</td>\n",
       "      <td>...</td>\n",
       "      <td>...</td>\n",
       "      <td>...</td>\n",
       "      <td>...</td>\n",
       "      <td>...</td>\n",
       "    </tr>\n",
       "    <tr>\n",
       "      <th>2015-08-28 22:10:00</th>\n",
       "      <td>10215495</td>\n",
       "      <td>HY401397</td>\n",
       "      <td>031XX W LAWRENCE AVE</td>\n",
       "      <td>0486</td>\n",
       "      <td>BATTERY</td>\n",
       "      <td>DOMESTIC BATTERY SIMPLE</td>\n",
       "      <td>PARKING LOT/GARAGE(NON.RESID.)</td>\n",
       "      <td>False</td>\n",
       "      <td>True</td>\n",
       "      <td>1713</td>\n",
       "      <td>17</td>\n",
       "      <td>33</td>\n",
       "      <td>14</td>\n",
       "      <td>08B</td>\n",
       "      <td>1154394.0</td>\n",
       "      <td>1931719.0</td>\n",
       "      <td>2015</td>\n",
       "      <td>2018-02-10 15:50:01</td>\n",
       "      <td>41.968464</td>\n",
       "      <td>-87.707680</td>\n",
       "      <td>(41.968462913, -87.707683157)</td>\n",
       "    </tr>\n",
       "    <tr>\n",
       "      <th>2015-08-29 01:36:00</th>\n",
       "      <td>10215496</td>\n",
       "      <td>HY401545</td>\n",
       "      <td>044XX N SAWYER AVE</td>\n",
       "      <td>0460</td>\n",
       "      <td>BATTERY</td>\n",
       "      <td>SIMPLE</td>\n",
       "      <td>STREET</td>\n",
       "      <td>False</td>\n",
       "      <td>False</td>\n",
       "      <td>1724</td>\n",
       "      <td>17</td>\n",
       "      <td>33</td>\n",
       "      <td>14</td>\n",
       "      <td>08B</td>\n",
       "      <td>1153919.0</td>\n",
       "      <td>1929328.0</td>\n",
       "      <td>2015</td>\n",
       "      <td>2018-02-10 15:50:01</td>\n",
       "      <td>41.961910</td>\n",
       "      <td>-87.709496</td>\n",
       "      <td>(41.961911365, -87.709493728)</td>\n",
       "    </tr>\n",
       "    <tr>\n",
       "      <th>2015-08-29 03:52:00</th>\n",
       "      <td>10215497</td>\n",
       "      <td>HY401614</td>\n",
       "      <td>037XX W LELAND AVE</td>\n",
       "      <td>1310</td>\n",
       "      <td>CRIMINAL DAMAGE</td>\n",
       "      <td>TO PROPERTY</td>\n",
       "      <td>APARTMENT</td>\n",
       "      <td>False</td>\n",
       "      <td>False</td>\n",
       "      <td>1723</td>\n",
       "      <td>17</td>\n",
       "      <td>39</td>\n",
       "      <td>14</td>\n",
       "      <td>14</td>\n",
       "      <td>1150607.0</td>\n",
       "      <td>1930973.0</td>\n",
       "      <td>2015</td>\n",
       "      <td>2018-02-10 15:50:01</td>\n",
       "      <td>41.966492</td>\n",
       "      <td>-87.721626</td>\n",
       "      <td>(41.96649088, -87.721627447)</td>\n",
       "    </tr>\n",
       "    <tr>\n",
       "      <th>2015-08-29 05:10:00</th>\n",
       "      <td>10215498</td>\n",
       "      <td>HY401663</td>\n",
       "      <td>032XX N KIMBALL AVE</td>\n",
       "      <td>0880</td>\n",
       "      <td>THEFT</td>\n",
       "      <td>PURSE-SNATCHING</td>\n",
       "      <td>RESTAURANT</td>\n",
       "      <td>False</td>\n",
       "      <td>False</td>\n",
       "      <td>1732</td>\n",
       "      <td>17</td>\n",
       "      <td>35</td>\n",
       "      <td>21</td>\n",
       "      <td>06</td>\n",
       "      <td>1153154.0</td>\n",
       "      <td>1921288.0</td>\n",
       "      <td>2015</td>\n",
       "      <td>2018-02-10 15:50:01</td>\n",
       "      <td>41.939865</td>\n",
       "      <td>-87.712517</td>\n",
       "      <td>(41.939864288, -87.712520442)</td>\n",
       "    </tr>\n",
       "    <tr>\n",
       "      <th>2015-08-29 01:00:00</th>\n",
       "      <td>10215499</td>\n",
       "      <td>HY401688</td>\n",
       "      <td>011XX W GARFIELD BLVD</td>\n",
       "      <td>0910</td>\n",
       "      <td>MOTOR VEHICLE THEFT</td>\n",
       "      <td>AUTOMOBILE</td>\n",
       "      <td>STREET</td>\n",
       "      <td>False</td>\n",
       "      <td>False</td>\n",
       "      <td>712</td>\n",
       "      <td>7</td>\n",
       "      <td>16</td>\n",
       "      <td>68</td>\n",
       "      <td>07</td>\n",
       "      <td>1169805.0</td>\n",
       "      <td>1868195.0</td>\n",
       "      <td>2015</td>\n",
       "      <td>2018-02-10 15:50:01</td>\n",
       "      <td>41.793827</td>\n",
       "      <td>-87.652870</td>\n",
       "      <td>(41.793825753, -87.652869806)</td>\n",
       "    </tr>\n",
       "  </tbody>\n",
       "</table>\n",
       "<p>100000 rows × 21 columns</p>\n",
       "</div>"
      ],
      "text/plain": [
       "                           ID Case Number                  Block  IUCR         Primary Type              Description            Location Description  Arrest  Domestic  Beat  District  Ward  Community Area FBI Code  X Coordinate  Y Coordinate  Year          Updated On   Latitude  Longitude                       Location\n",
       "Date                                                                                                                                                                                                                                                                                                                            \n",
       "2015-09-05 13:30:00  10224738    HY411648        043XX S WOOD ST  0486              BATTERY  DOMESTIC BATTERY SIMPLE                       RESIDENCE   False      True   924         9    12              61      08B     1165074.0     1875917.0  2015 2018-02-10 15:50:01  41.815117 -87.669998  (41.815117282, -87.669999562)\n",
       "2015-09-04 11:30:00  10224739    HY411615    008XX N CENTRAL AVE  0870                THEFT           POCKET-PICKING                         CTA BUS   False     False  1511        15    29              25       06     1138875.0     1904869.0  2015 2018-02-10 15:50:01  41.895081 -87.765404  (41.895080471, -87.765400451)\n",
       "2018-09-01 00:01:00  11646166    JC213529  082XX S INGLESIDE AVE  0810                THEFT                OVER $500                       RESIDENCE   False      True   631         6     8              44       06           NaN           NaN  2018 2019-04-06 16:04:43        NaN        NaN                            NaN\n",
       "2015-09-05 12:45:00  10224740    HY411595      035XX W BARRY AVE  2023            NARCOTICS    POSS: HEROIN(BRN/TAN)                        SIDEWALK    True     False  1412        14    35              21       18     1152037.0     1920384.0  2015 2018-02-10 15:50:01  41.937405 -87.716652  (41.937405765, -87.716649687)\n",
       "2015-09-05 13:00:00  10224741    HY411610    0000X N LARAMIE AVE  0560              ASSAULT                   SIMPLE                       APARTMENT   False      True  1522        15    28              25      08A     1141706.0     1900086.0  2015 2018-02-10 15:50:01  41.881905 -87.755119  (41.881903443, -87.755121152)\n",
       "...                       ...         ...                    ...   ...                  ...                      ...                             ...     ...       ...   ...       ...   ...             ...      ...           ...           ...   ...                 ...        ...        ...                            ...\n",
       "2015-08-28 22:10:00  10215495    HY401397   031XX W LAWRENCE AVE  0486              BATTERY  DOMESTIC BATTERY SIMPLE  PARKING LOT/GARAGE(NON.RESID.)   False      True  1713        17    33              14      08B     1154394.0     1931719.0  2015 2018-02-10 15:50:01  41.968464 -87.707680  (41.968462913, -87.707683157)\n",
       "2015-08-29 01:36:00  10215496    HY401545     044XX N SAWYER AVE  0460              BATTERY                   SIMPLE                          STREET   False     False  1724        17    33              14      08B     1153919.0     1929328.0  2015 2018-02-10 15:50:01  41.961910 -87.709496  (41.961911365, -87.709493728)\n",
       "2015-08-29 03:52:00  10215497    HY401614     037XX W LELAND AVE  1310      CRIMINAL DAMAGE              TO PROPERTY                       APARTMENT   False     False  1723        17    39              14       14     1150607.0     1930973.0  2015 2018-02-10 15:50:01  41.966492 -87.721626   (41.96649088, -87.721627447)\n",
       "2015-08-29 05:10:00  10215498    HY401663    032XX N KIMBALL AVE  0880                THEFT          PURSE-SNATCHING                      RESTAURANT   False     False  1732        17    35              21       06     1153154.0     1921288.0  2015 2018-02-10 15:50:01  41.939865 -87.712517  (41.939864288, -87.712520442)\n",
       "2015-08-29 01:00:00  10215499    HY401688  011XX W GARFIELD BLVD  0910  MOTOR VEHICLE THEFT               AUTOMOBILE                          STREET   False     False   712         7    16              68       07     1169805.0     1868195.0  2015 2018-02-10 15:50:01  41.793827 -87.652870  (41.793825753, -87.652869806)\n",
       "\n",
       "[100000 rows x 21 columns]"
      ]
     },
     "execution_count": 81,
     "metadata": {},
     "output_type": "execute_result"
    }
   ],
   "source": [
    "df2 =df.copy()\n",
    "df2.set_index('Date')"
   ]
  },
  {
   "cell_type": "code",
   "execution_count": null,
   "id": "cf92467f",
   "metadata": {},
   "outputs": [
    {
     "data": {
      "text/plain": [
       "array([2001, 2002, 2003, 2005, 2006, 2007, 2008, 2009, 2010, 2011, 2012,\n",
       "       2013, 2014, 2015, 2016, 2017, 2018, 2019, 2020, 2021])"
      ]
     },
     "execution_count": 83,
     "metadata": {},
     "output_type": "execute_result"
    }
   ],
   "source": [
    "year= df['Year'].sort_values().unique()\n",
    "year"
   ]
  },
  {
   "cell_type": "markdown",
   "id": "117f39f5",
   "metadata": {},
   "source": [
    "we have records from 2001 - 2023"
   ]
  },
  {
   "cell_type": "markdown",
   "id": "8b66700e",
   "metadata": {},
   "source": [
    "try finding relationship between year and  updated on"
   ]
  },
  {
   "cell_type": "code",
   "execution_count": null,
   "id": "10ee5e40",
   "metadata": {},
   "outputs": [
    {
     "data": {
      "image/png": "[encoded data removed]",
      "text/plain": [
       "<Figure size 640x480 with 1 Axes>"
      ]
     },
     "metadata": {},
     "output_type": "display_data"
    }
   ],
   "source": [
    "crimerate=df2['Primary Type'].value_counts().head(10).plot(kind='bar')"
   ]
  },
  {
   "cell_type": "code",
   "execution_count": null,
   "id": "79d1710b",
   "metadata": {},
   "outputs": [
    {
     "data": {
      "text/plain": [
       "Primary Type\n",
       "THEFT                  22272\n",
       "BATTERY                18133\n",
       "CRIMINAL DAMAGE        11177\n",
       "NARCOTICS               7732\n",
       "DECEPTIVE PRACTICE      6702\n",
       "OTHER OFFENSE           6588\n",
       "ASSAULT                 6263\n",
       "BURGLARY                5353\n",
       "ROBBERY                 3911\n",
       "MOTOR VEHICLE THEFT     3856\n",
       "Name: count, dtype: int64"
      ]
     },
     "execution_count": 132,
     "metadata": {},
     "output_type": "execute_result"
    }
   ],
   "source": [
    "crimerate=df2['Primary Type'].value_counts().head(10)\n",
    "crimerate"
   ]
  },
  {
   "cell_type": "code",
   "execution_count": null,
   "id": "7854d0b8",
   "metadata": {},
   "outputs": [
    {
     "ename": "NameError",
     "evalue": "name 'df' is not defined",
     "output_type": "error",
     "traceback": [
      "\u001b[31m---------------------------------------------------------------------------\u001b[39m",
      "\u001b[31mNameError\u001b[39m                                 Traceback (most recent call last)",
      "\u001b[36mCell\u001b[39m\u001b[36m \u001b[39m\u001b[32mIn[1]\u001b[39m\u001b[32m, line 3\u001b[39m\n\u001b[32m      1\u001b[39m incitype=[\u001b[33m'\u001b[39m\u001b[33mTHEFT\u001b[39m\u001b[33m'\u001b[39m,\u001b[33m'\u001b[39m\u001b[33mBATTERY\u001b[39m\u001b[33m'\u001b[39m,\u001b[33m'\u001b[39m\u001b[33mCRIMINAL DAMAGE\u001b[39m\u001b[33m'\u001b[39m,\u001b[33m'\u001b[39m\u001b[33mNARCOTICS\u001b[39m\u001b[33m'\u001b[39m,\u001b[33m'\u001b[39m\u001b[33mDECEPTIVE PRACTICE\u001b[39m\u001b[33m'\u001b[39m,\u001b[33m'\u001b[39m\u001b[33mOTHER OFFENSE\u001b[39m\u001b[33m'\u001b[39m,\u001b[33m'\u001b[39m\u001b[33mASSAULT\u001b[39m\u001b[33m'\u001b[39m,\u001b[33m'\u001b[39m\u001b[33mBURGLARY\u001b[39m\u001b[33m'\u001b[39m,\u001b[33m'\u001b[39m\u001b[33mROBBERY\u001b[39m\u001b[33m'\u001b[39m,\u001b[33m'\u001b[39m\u001b[33mMOTOR VEHICLE THEFT\u001b[39m\u001b[33m'\u001b[39m]\n\u001b[32m      2\u001b[39m \u001b[38;5;28;01mfor\u001b[39;00m i \u001b[38;5;129;01min\u001b[39;00m incitype:\n\u001b[32m----> \u001b[39m\u001b[32m3\u001b[39m     \u001b[38;5;28;01mif\u001b[39;00m i \u001b[38;5;129;01min\u001b[39;00m \u001b[38;5;28mlist\u001b[39m(\u001b[43mdf\u001b[49m[\u001b[33m'\u001b[39m\u001b[33mPrimary Type\u001b[39m\u001b[33m'\u001b[39m]):\n\u001b[32m      4\u001b[39m         \u001b[38;5;28mprint\u001b[39m(df2.loc[:,:])\n\u001b[32m      5\u001b[39m     \u001b[38;5;28;01melse\u001b[39;00m:\n",
      "\u001b[31mNameError\u001b[39m: name 'df' is not defined"
     ]
    }
   ],
   "source": [
    "incitype=['THEFT','BATTERY','CRIMINAL DAMAGE','NARCOTICS','DECEPTIVE PRACTICE','OTHER OFFENSE','ASSAULT','BURGLARY','ROBBERY','MOTOR VEHICLE THEFT']\n",
    "for i in incitype:\n",
    "    if i in list(df['Primary Type']):\n",
    "        print(df2.loc[:,:])\n",
    "    else:\n",
    "        print('not found')\n"
   ]
  },
  {
   "cell_type": "code",
   "execution_count": null,
   "id": "217cd77f",
   "metadata": {},
   "outputs": [
    {
     "ename": "NameError",
     "evalue": "name 'categTHEFT' is not defined",
     "output_type": "error",
     "traceback": [
      "\u001b[31m---------------------------------------------------------------------------\u001b[39m",
      "\u001b[31mNameError\u001b[39m                                 Traceback (most recent call last)",
      "\u001b[36mCell\u001b[39m\u001b[36m \u001b[39m\u001b[32mIn[141]\u001b[39m\u001b[32m, line 1\u001b[39m\n\u001b[32m----> \u001b[39m\u001b[32m1\u001b[39m \u001b[43mcategTHEFT\u001b[49m\n",
      "\u001b[31mNameError\u001b[39m: name 'categTHEFT' is not defined"
     ]
    }
   ],
   "source": [
    "categTHEFT"
   ]
  },
  {
   "cell_type": "code",
   "execution_count": null,
   "id": "82c694d8",
   "metadata": {},
   "outputs": [
    {
     "data": {
      "text/plain": [
       "Primary Type\n",
       "HUMAN TRAFFICKING           8\n",
       "NON - CRIMINAL              6\n",
       "PUBLIC INDECENCY            5\n",
       "HOMICIDE                    2\n",
       "OTHER NARCOTIC VIOLATION    2\n",
       "Name: count, dtype: int64"
      ]
     },
     "execution_count": 107,
     "metadata": {},
     "output_type": "execute_result"
    }
   ],
   "source": [
    "crimerate.tail()"
   ]
  },
  {
   "cell_type": "code",
   "execution_count": null,
   "id": "0b6eaa36",
   "metadata": {},
   "outputs": [
    {
     "data": {
      "text/plain": [
       "Year  Primary Type              \n",
       "2001  DECEPTIVE PRACTICE            3\n",
       "      BATTERY                       2\n",
       "      OFFENSE INVOLVING CHILDREN    1\n",
       "      THEFT                         1\n",
       "      ARSON                         0\n",
       "                                   ..\n",
       "2021  PUBLIC PEACE VIOLATION        0\n",
       "      ROBBERY                       0\n",
       "      SEX OFFENSE                   0\n",
       "      STALKING                      0\n",
       "      WEAPONS VIOLATION             0\n",
       "Name: count, Length: 660, dtype: int64"
      ]
     },
     "execution_count": 102,
     "metadata": {},
     "output_type": "execute_result"
    }
   ],
   "source": [
    "# df2.groupby(['Year'])['ID', 'Case Number', 'Block', 'IUCR', 'Primary Type', 'Description', 'Location Description', 'Arrest', 'Domestic', 'Beat', 'District', 'Ward', 'Community Area', 'FBI Code' 'Updated On', 'Latitude', 'Longitude', 'Location']\n",
    "df2.groupby('Year')['Primary Type'].value_counts()"
   ]
  },
  {
   "cell_type": "code",
   "execution_count": null,
   "id": "4646951d",
   "metadata": {},
   "outputs": [
    {
     "data": {
      "text/plain": [
       "Index(['ID', 'Case Number', 'Date', 'Block', 'IUCR', 'Primary Type', 'Description', 'Location Description', 'Arrest', 'Domestic', 'Beat', 'District', 'Ward', 'Community Area', 'FBI Code', 'X Coordinate', 'Y Coordinate', 'Year', 'Updated On', 'Latitude', 'Longitude', 'Location'], dtype='object')"
      ]
     },
     "execution_count": 92,
     "metadata": {},
     "output_type": "execute_result"
    }
   ],
   "source": [
    "df2.columns"
   ]
  }
 ],
 "metadata": {
  "kernelspec": {
   "display_name": "numpyvenv",
   "language": "python",
   "name": "python3"
  },
  "language_info": {
   "codemirror_mode": {
    "name": "ipython",
    "version": 3
   },
   "file_extension": ".py",
   "mimetype": "text/x-python",
   "name": "python",
   "nbconvert_exporter": "python",
   "pygments_lexer": "ipython3",
   "version": "3.12.4"
  }
 },
 "nbformat": 4,
 "nbformat_minor": 5
}
