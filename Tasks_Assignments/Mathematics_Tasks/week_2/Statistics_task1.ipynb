{
 "cells": [
  {
   "cell_type": "markdown",
   "id": "4bbe9395",
   "metadata": {},
   "source": [
    "# Task1 - Mean , Median & Mode "
   ]
  },
  {
   "cell_type": "markdown",
   "id": "a6d6cee2",
   "metadata": {},
   "source": [
    "1: Class Test Scores\n",
    "\n",
    "The following are the Mathematics test scores (out of 20) for a class of 15 students:\n",
    "\n",
    " 5, 8, 10, 12, 12, 12, 13, 14, 14, 15, 16, 18, 18, 20, 20\n",
    " \n",
    "Find the mean, median, and mode of the scores.\n",
    "\n",
    "\n",
    "If the lowest score (5) was wrongly recorded and should have been 10, how would the mean change? Would the median or mode change? Explain.\n"
   ]
  },
  {
   "cell_type": "markdown",
   "id": "473f5dd1",
   "metadata": {},
   "source": [
    "**Solution to Questin 1**\n",
    "\n",
    "Mean =(5 + 8 +10+12+12+12+13+14+14+15+16+18+18+20+20)/15\n",
    "\n",
    "      = 207/15\n",
    "       = 13.8\n",
    "\n",
    "\n",
    "median = 5, 8, 10, 12, 12, 12, 13, 14, 14, 15, 16, 18, 18, 20, 20\n",
    "    = 14\n",
    "\n",
    "\n",
    "Mode = 12\n",
    "\n",
    "\n",
    "If 5 was changed to 10 the median will still remain the same because the position of the former median did not change  and the mode will still remain because 10 will have a frequency of 2 which is still not up to 3. The mean will increase because we now have another higher value and mean is influenced  by outlier thatis an increase or decrease in a value has an impact on the mean "
   ]
  },
  {
   "cell_type": "code",
   "execution_count": 14,
   "id": "cbf667bd",
   "metadata": {},
   "outputs": [
    {
     "data": {
      "text/plain": [
       "np.float64(13.8)"
      ]
     },
     "execution_count": 14,
     "metadata": {},
     "output_type": "execute_result"
    }
   ],
   "source": [
    "import numpy as np \n",
    "\n",
    "arr1 = np.array([5, 8, 10, 12, 12, 12, 13, 14, 14, 15, 16, 18, 18, 20, 20])\n",
    "arr1.sum()/15"
   ]
  },
  {
   "cell_type": "markdown",
   "id": "b02956d5",
   "metadata": {},
   "source": [
    "# Question 2"
   ]
  },
  {
   "cell_type": "markdown",
   "id": "4dc2a85c",
   "metadata": {},
   "source": [
    "Daily Commute Times\n",
    "A group of 9 students reported the time (in minutes) it takes them to get to school each day:\n",
    "\n",
    " 15, 20, 20, 25, 25, 30, 60, 65, 120\n",
    "\n",
    "Find the mean, median, and mode of the data.\n",
    "\n",
    "\n",
    "Which measure (mean, median, or mode) do you think best represents the “typical” time it takes students to get to school? Why?\n",
    "\n",
    " (Hint: Think about the effect of the student who takes 120 minutes.)\n"
   ]
  },
  {
   "cell_type": "markdown",
   "id": "502bfbfa",
   "metadata": {},
   "source": [
    "**Solution to Question 2**\n",
    "\n",
    "Mean = (15 +20+20+25+25+30+60+65+120)/9\n",
    "      = 42.2\n",
    "\n",
    "median :  15, 20, 20, 25, 25, 30, 60, 65, 120\n",
    "\n",
    " maedian = 25\n",
    "\n",
    "mode  = the modes are 20 and 25 (Bimodal)\n",
    "\n",
    "\n",
    "The mean best represents the typical time it takes students to get to school because it is sensitive to outlier\n",
    "\n",
    "\n",
    "\n"
   ]
  },
  {
   "cell_type": "code",
   "execution_count": 15,
   "id": "832b4205",
   "metadata": {},
   "outputs": [
    {
     "data": {
      "text/plain": [
       "np.float64(42.22222222222222)"
      ]
     },
     "execution_count": 15,
     "metadata": {},
     "output_type": "execute_result"
    }
   ],
   "source": [
    "arr1 = np.array([15, 20, 20, 25, 25, 30, 60, 65, 120])\n",
    "arr1.sum()/9"
   ]
  },
  {
   "cell_type": "markdown",
   "id": "546e74e8",
   "metadata": {},
   "source": [
    "# Question 3\n",
    "\n",
    "Shoe Sizes\n",
    "\n",
    "The shoe sizes of students in a class are:\n",
    "\n",
    " 38, 39, 38, 40, 41, 42, 39, 39, 40, 38, 37, 39, 40, 41, 42\n",
    " \n",
    "Find the mode of the data.\n",
    "\n",
    "\n",
    "If a shoe company wants to donate free shoes, which size should they produce most of? Why?\n",
    "\n",
    "\n",
    "What if they only want to produce one size that would fit the \"average\" student? Should they use mean, median, or mode? Defend your answer.\n",
    "\n"
   ]
  },
  {
   "cell_type": "markdown",
   "id": "386c30d0",
   "metadata": {},
   "source": [
    "**Solution to question 3**\n",
    "\n",
    "mode  = 39\n",
    "\n",
    "i) If a shoe company wants to donate free shoes, they should produce more of size **39**\n",
    "\n",
    "\n",
    "ii)  they want to produce a size that will fit the average student they should use the mean,because it \n",
    "\n",
    "takes all the data point in the data to get the measure of center. therefore the mean is a reflection \n",
    "\n",
    "of all the data in the data set \n",
    "\n"
   ]
  },
  {
   "cell_type": "code",
   "execution_count": 16,
   "id": "201d165e",
   "metadata": {},
   "outputs": [
    {
     "data": {
      "text/plain": [
       "np.float64(39.53333333333333)"
      ]
     },
     "execution_count": 16,
     "metadata": {},
     "output_type": "execute_result"
    }
   ],
   "source": [
    "arr1 = np.array([38, 39, 38, 40, 41, 42, 39, 39, 40, 38, 37, 39, 40, 41, 42])\n",
    "arr1.sum()/15"
   ]
  }
 ],
 "metadata": {
  "kernelspec": {
   "display_name": "taskvenv",
   "language": "python",
   "name": "python3"
  },
  "language_info": {
   "codemirror_mode": {
    "name": "ipython",
    "version": 3
   },
   "file_extension": ".py",
   "mimetype": "text/x-python",
   "name": "python",
   "nbconvert_exporter": "python",
   "pygments_lexer": "ipython3",
   "version": "3.13.7"
  }
 },
 "nbformat": 4,
 "nbformat_minor": 5
}
