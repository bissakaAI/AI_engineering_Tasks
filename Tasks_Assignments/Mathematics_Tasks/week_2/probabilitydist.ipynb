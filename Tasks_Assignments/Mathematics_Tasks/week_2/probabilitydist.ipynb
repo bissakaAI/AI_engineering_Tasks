{
 "cells": [
  {
   "cell_type": "markdown",
   "id": "37b1f5ba",
   "metadata": {},
   "source": [
    "# Chi-Square Tests"
   ]
  },
  {
   "cell_type": "markdown",
   "id": "745f9240",
   "metadata": {},
   "source": [
    "**Chi sqaure test is  a non-parametric test,thatis it is used for data that doesn not follow the assumptions of parametric tests, especially the assumption of normal distribution.**\n",
    "\n",
    "it would be used if you want to test a hypothesis of a categorical variable.A chi-square test (a test of independence) can test whether these observed frequencies are significantly different from the frequencies expected if the variables are independent.\n",
    "\n",
    "\n",
    "χ2 = (∑(Oi – Ei)^2)/Ei\n",
    "\n",
    "\n",
    "Where:\n",
    "\n",
    "Χ2 is the chi-square test statistic\n",
    "\n",
    "Σ is the summation operator (it means “take the sum of”)\n",
    "\n",
    "O is the observed frequency\n",
    "\n",
    "E is the expected frequency\n",
    "\n",
    "Chi-Square test statistic is called P-value. The P-value is short for probability value\n",
    "\n",
    "P<= 0.05 (reject null hypothesis)\n",
    "\n",
    "p-value > 0.05 (fail to reject)\n",
    "\n",
    "it it is very close to 0.05 it nedds closer attention\n",
    "\n",
    "A very small Chi-Square test statistic indicates that the collected data matches the expected data extremely well.\n",
    "\n",
    "A very large Chi-Square test statistic indicates that the data does not match very well. If the chi-square value is large, the null hypothesis is rejected.\n",
    "\n",
    "\n",
    "**When to use a chi-square test**\n",
    "\n",
    "A Pearson’s chi-square test may be an appropriate option for your data if all of the following are true:\n",
    "\n",
    "1. You want to test a hypothesis about one or more categorical variables. If one or more of your variables is quantitative, you should use a different statistical test. Alternatively, you could convert the quantitative variable into a categorical variable by separating the observations into intervals.\n",
    "\n",
    "2. The sample was randomly selected from the population.\n",
    "\n",
    "3. There are a minimum of five observations expected in each group or combination of groups.\n",
    "\n",
    "\n",
    "Types of chi-square tests\n",
    "\n",
    "The two types of Pearson’s chi-square tests are:\n",
    "\n",
    "1. Chi-square goodness of fit test\n",
    "\n",
    "2. Chi-square test of independence"
   ]
  },
  {
   "cell_type": "markdown",
   "id": "f7247675",
   "metadata": {},
   "source": [
    "# ANOVA (FOR COMPARING TWO MEANS )"
   ]
  },
  {
   "cell_type": "markdown",
   "id": "6b8807cd",
   "metadata": {},
   "source": [
    "ANOVA, which stands for Analysis of Variance, is a statistical test used to analyze the difference between the means of more than two groups.\n",
    "\n",
    "\n",
    "The null hypothesis (H0) of ANOVA is that there is no significant difference among group means. The alternative hypothesis (Ha) is that at least one group differs significantly from the overall mean of the dependent variable.\n",
    "\n",
    "If you only want to compare two groups, use a t test instead.\n",
    "\n",
    "\n",
    "The only difference between one-way and two-way ANOVA is the number of independent variables. A one-way ANOVA has one independent variable, while a two-way ANOVA has two.\n",
    "\n",
    "\n",
    "\n",
    "Assumptions of ANOVA\n",
    "\n",
    "1. Independence of observations: The data collected using statistically valid sampling methods, has no hidden relationships among observations. \n",
    "\n",
    "2. The values of the dependent variable follow a normal distribution.\n",
    "\n",
    "3. The variation within each group being compared is similar for every group. If the variances are different among the groups, then ANOVA probably isn’t the right fit for the data."
   ]
  },
  {
   "cell_type": "markdown",
   "id": "d0a6a5ca",
   "metadata": {},
   "source": [
    "# Two tailed tests"
   ]
  },
  {
   "cell_type": "markdown",
   "id": "32a2f6e7",
   "metadata": {},
   "source": [
    "**A two-tailed test in statistics evaluates whether a sample significantly differs from a population mean, either exceeding or falling short. It's a fundamental tool in null-hypothesis testing used across various fields like manufacturing quality control and financial analysis**\n",
    "\n",
    "A two-tailed test can be applied in production, like during cement packaging at a facility. If the target is 50 bags, bags fewer than 45 or more than 55 are rejected.\n",
    "\n"
   ]
  },
  {
   "cell_type": "markdown",
   "id": "6d3a8cef",
   "metadata": {},
   "source": [
    "# proportion testing"
   ]
  },
  {
   "cell_type": "markdown",
   "id": "6a969341",
   "metadata": {},
   "source": [
    "Two-proportion Test\n",
    "Another common way for comparing two proportions is the two-proportion test. It is mathematically equivalent to the chi-square test. Agresti and Franklin (2007) have suggested a rule of thumb for its minimum sample size that there should be at least 10 successes and 10 failures in each sample.\n",
    "\n",
    "It generates a test statistic that is looked up using the normal (z) distribution to find the p-values. It uses the following formula and will be further discussed in a subsequent section (“N − 1 Two-proportion Test”).\n",
    "\n",
    "\n",
    "\n"
   ]
  }
 ],
 "metadata": {
  "language_info": {
   "name": "python"
  }
 },
 "nbformat": 4,
 "nbformat_minor": 5
}
