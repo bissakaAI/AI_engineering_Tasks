{
 "cells": [
  {
   "cell_type": "markdown",
   "id": "ce64f392",
   "metadata": {},
   "source": [
    "# Variance "
   ]
  },
  {
   "cell_type": "markdown",
   "id": "b0ab7bf8",
   "metadata": {},
   "source": [
    "data set = 4,8,6,5,3\n",
    "\n",
    "we need to calculate the mean (μ) = (4+8+6+5+3)/5\n",
    "\n",
    "                             μ = 5.2\n",
    "variance (σ²) = Σ(x - μ)² / N \n",
    "\n",
    "|  x  | x - μ |(x - μ)²|\n",
    "|-----|-------|----|\n",
    "|  4  | 4-5.2 | 1.44  |    \n",
    "|  8  | 8-5.2 | 7.84  | \n",
    "|  6  | 6-5.2 | 0.64  | \n",
    "|  5  | 5-5.2 | 0.04  | \n",
    "|  3  | 3-5.2 | 4.84  |\n",
    "|     |   Σ   |  14.8  |  \n",
    "\n",
    "\n",
    "σ² =  14.8/5\n",
    "σ² = 2.96       \n",
    "             \n",
    "            \n",
    "\n"
   ]
  },
  {
   "cell_type": "markdown",
   "id": "9696e512",
   "metadata": {},
   "source": [
    "Since the variance is not large, we ccan say the data points are not far apart .good spread!!!!"
   ]
  }
 ],
 "metadata": {
  "language_info": {
   "name": "python"
  }
 },
 "nbformat": 4,
 "nbformat_minor": 5
}
