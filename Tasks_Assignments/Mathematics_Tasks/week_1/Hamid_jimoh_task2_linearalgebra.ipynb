{
 "cells": [
  {
   "cell_type": "markdown",
   "id": "9631b9c5",
   "metadata": {},
   "source": [
    "# TASK 2\n"
   ]
  },
  {
   "cell_type": "markdown",
   "id": "2321bfbd",
   "metadata": {},
   "source": [
    "A = [[2 -1 3], [0 4 1]]\n",
    "\n",
    "B = [[1 2], [-2 0], [5 3]]\n",
    "\n",
    "Question 1. Identify the number of rows and columns in each matrix\n",
    "Question 2. Determine whether the matrices can be multiplied. If so, specify whether its (AB), (BA) or both.\n",
    "Question3. If the multiplication is defined, compute the resulting matrix"
   ]
  },
  {
   "cell_type": "markdown",
   "id": "b33bd93b",
   "metadata": {},
   "source": [
    "Qestion A"
   ]
  },
  {
   "cell_type": "markdown",
   "id": "32986b5b",
   "metadata": {},
   "source": [
    "\n",
    "Matric A has:  \n",
    "Rows = 2\n",
    "Columns = 3\n",
    "\n",
    "Matrix B has:\n",
    "Rows = 3\n",
    "Columns = 2\n",
    "\n",
    "\n"
   ]
  },
  {
   "cell_type": "markdown",
   "id": "893c811c",
   "metadata": {},
   "source": [
    "Question B"
   ]
  },
  {
   "cell_type": "markdown",
   "id": "3fcba15b",
   "metadata": {},
   "source": [
    "\n",
    "The matric A can be multiplied by Matric B because number of column in A is equal to the number of rows in B\n",
    "\n",
    "The matric B can also be multiplied by Matric A because number of column in B is equal to the number of rows in A\n"
   ]
  },
  {
   "cell_type": "code",
   "execution_count": 2,
   "id": "b1e2f5cf",
   "metadata": {},
   "outputs": [],
   "source": [
    "import numpy as np\n",
    "matA = np.array([[2,-1,3],[0,4,1]])\n",
    "matB = np.array([[1,2],[-2,0],[5,-3]])"
   ]
  },
  {
   "cell_type": "code",
   "execution_count": 4,
   "id": "04b111a9",
   "metadata": {},
   "outputs": [
    {
     "name": "stdout",
     "output_type": "stream",
     "text": [
      "The matrix multiplication of matric A and B is \n",
      " [[19 -5]\n",
      " [-3 -3]]\n"
     ]
    }
   ],
   "source": [
    "#matrix multiplication AB\n",
    "multiAB = np.dot(matA,matB)\n",
    "print(\"The matrix multiplication of matric A and B is \\n\",multiAB)"
   ]
  },
  {
   "cell_type": "code",
   "execution_count": 5,
   "id": "4712c689",
   "metadata": {},
   "outputs": [
    {
     "name": "stdout",
     "output_type": "stream",
     "text": [
      "The matrix multiplication of matric A and B is \n",
      " [[  2   7   5]\n",
      " [ -4   2  -6]\n",
      " [ 10 -17  12]]\n"
     ]
    }
   ],
   "source": [
    "#matrix multiplication AB\n",
    "multiBA = np.dot(matB,matA)\n",
    "print(\"The matrix multiplication of matric A and B is \\n\",multiBA)"
   ]
  }
 ],
 "metadata": {
  "kernelspec": {
   "display_name": "Python 3",
   "language": "python",
   "name": "python3"
  },
  "language_info": {
   "codemirror_mode": {
    "name": "ipython",
    "version": 3
   },
   "file_extension": ".py",
   "mimetype": "text/x-python",
   "name": "python",
   "nbconvert_exporter": "python",
   "pygments_lexer": "ipython3",
   "version": "3.12.4"
  }
 },
 "nbformat": 4,
 "nbformat_minor": 5
}
