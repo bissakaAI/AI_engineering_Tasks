{
 "cells": [
  {
   "cell_type": "markdown",
   "id": "cc6576c7",
   "metadata": {},
   "source": [
    "# TASK 3"
   ]
  },
  {
   "cell_type": "code",
   "execution_count": null,
   "id": "44ba4968",
   "metadata": {},
   "outputs": [],
   "source": [
    "import numpy as np"
   ]
  },
  {
   "cell_type": "markdown",
   "id": "3e8f1d7f",
   "metadata": {},
   "source": [
    "# A = [[2,-1],[0,3]]   \n",
    "# B=[[1,4],[-2,5]]      \n",
    "# c= 2 , d = 3"
   ]
  },
  {
   "cell_type": "markdown",
   "id": "b1866ed7",
   "metadata": {},
   "source": [
    "# Question 1\n",
    "compute the following. (cA), (dB), and (c+d)A\n",
    "\n",
    "\n",
    "cA = 2.([[2,-1],[0,3]])\n",
    "\n",
    "dB = 3.([[1,4],[-2,5]])\n",
    "\n",
    "(c+d)A = (2+3)([[2,-1],[0,3]])\n",
    "\n",
    "        = (5)([[2,-1],[0,3]])"
   ]
  },
  {
   "cell_type": "markdown",
   "id": "e056bdf9",
   "metadata": {},
   "source": [
    "# QUESTION 2\n",
    "\n",
    "# ASSOCIATIVITY of scalar multiplication\n",
    "cA = Ac \n",
    "dB = Bd\n",
    "\n",
    "\n",
    "# distributive property over scalar addition \n",
    "(c+d)A = cA + dA\n",
    "\n",
    "\n"
   ]
  },
  {
   "cell_type": "markdown",
   "id": "53654a4b",
   "metadata": {},
   "source": [
    "# QUESTION 3 "
   ]
  },
  {
   "cell_type": "markdown",
   "id": "d6031492",
   "metadata": {},
   "source": [
    "\n",
    "transpose of A : [[2,-1],[0,3]]    = [[2,0],[-1,3]]\n",
    "\n",
    "\n",
    "transpose of B : [[1,4],[-2,5]]   =  [[1,-2],[4,5]]"
   ]
  },
  {
   "cell_type": "markdown",
   "id": "36ec3449",
   "metadata": {},
   "source": [
    "# QUESTION 4"
   ]
  },
  {
   "cell_type": "markdown",
   "id": "82ec26b2",
   "metadata": {},
   "source": [
    "det(A)= (2x3)-(0 x-1)\n",
    "    \n",
    "    = 6  (since 6 is non zero it means A has a determinant and it is invertible)\n",
    "\n",
    "\n",
    "det(B)= (1x5)-(-2 x 4)\n",
    "    \n",
    "    = 5 - (-8) = 13  (since 13 is non zero it means B has a determinant and it is invertible)"
   ]
  },
  {
   "cell_type": "code",
   "execution_count": null,
   "id": "009e451e",
   "metadata": {},
   "outputs": [],
   "source": [
    "matA = np.array([[2,-1],[0,3]])\n",
    "matB= np.array([[1,4],[-2,5]])\n",
    "c = 2\n",
    "d=3\n",
    "\n"
   ]
  }
 ],
 "metadata": {
  "language_info": {
   "name": "python"
  }
 },
 "nbformat": 4,
 "nbformat_minor": 5
}
