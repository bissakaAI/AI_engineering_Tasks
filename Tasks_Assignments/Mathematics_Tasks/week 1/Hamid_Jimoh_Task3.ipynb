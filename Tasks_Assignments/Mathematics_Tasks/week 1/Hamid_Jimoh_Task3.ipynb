{
 "cells": [
  {
   "cell_type": "markdown",
   "id": "cc6576c7",
   "metadata": {},
   "source": [
    "# TASK 3"
   ]
  },
  {
   "cell_type": "code",
   "execution_count": 1,
   "id": "44ba4968",
   "metadata": {},
   "outputs": [],
   "source": [
    "import numpy as np"
   ]
  },
  {
   "cell_type": "markdown",
   "id": "3e8f1d7f",
   "metadata": {},
   "source": [
    "A = [[2,-1],[0,3]]   \n",
    "\n",
    "B=[[1,4],[-2,5]] \n",
    "\n",
    "c= 2 , d = 3"
   ]
  },
  {
   "cell_type": "markdown",
   "id": "b1866ed7",
   "metadata": {},
   "source": [
    "# Question 1\n",
    "compute the following. (cA), (dB), and (c+d)A\n",
    "\n",
    "\n",
    "cA = 2.([[2,-1],[0,3]])\n",
    "\n",
    "    = [[ 4, -2],\n",
    "       [ 0,  6]]\n",
    "\n",
    "dB = 3.([[1,4],[-2,5]])\n",
    "\n",
    "   =  [[ 3, 12],\n",
    "       [-6, 15]]\n",
    "\n",
    "(c+d)A = (2+3)([[2,-1],[0,3]])\n",
    "\n",
    "        = (5)([[2,-1],[0,3]])"
   ]
  },
  {
   "cell_type": "markdown",
   "id": "e056bdf9",
   "metadata": {},
   "source": [
    "# QUESTION 2\n",
    "\n",
    "ASSOCIATIVITY of scalar multiplication\n",
    "\n",
    "cA = Ac \n",
    "\n",
    "2.([[2,-1],[0,3]])  =  ([[2,-1],[0,3]]). 2\n",
    "\n",
    "[[4,-2],[0,6]]    = [[4,-2],[0,6]]\n",
    "\n",
    "\n",
    "dB = Bd\n",
    "\n",
    "3.([[1,4],[-2,5]])  =  ([[1,4],[-2,5]]).3\n",
    "\n",
    "[[3,12],[-6,15]]  =  [[3,12],[-6,15]]\n",
    "\n",
    "distributive property over scalar addition\n",
    "\n",
    "(c+d)A = cA + dA\n",
    "\n",
    "(5)([[2,-1],[0,3]]) = 2.([[2,-1],[0,3]])  + 3.([[2,-1],[0,3]])\n",
    "\n",
    "[[10,-5],[0,15]] =   [[4,-2],[0,6]]  +  [[6,-3],[0,9]] \n",
    "\n",
    "[[10,-5],[0,15]]  =  [[10,-5],[0,15]]\n",
    "\n",
    "\n",
    "\n"
   ]
  },
  {
   "cell_type": "markdown",
   "id": "53654a4b",
   "metadata": {},
   "source": [
    "# QUESTION 3 "
   ]
  },
  {
   "cell_type": "markdown",
   "id": "d6031492",
   "metadata": {},
   "source": [
    "\n",
    "transpose of A : [[2,-1],[0,3]]    = [[2,0],[-1,3]]\n",
    "\n",
    "\n",
    "transpose of B : [[1,4],[-2,5]]   =  [[1,-2],[4,5]]"
   ]
  },
  {
   "cell_type": "markdown",
   "id": "36ec3449",
   "metadata": {},
   "source": [
    "# QUESTION 4"
   ]
  },
  {
   "cell_type": "markdown",
   "id": "82ec26b2",
   "metadata": {},
   "source": [
    "det(A)= (2x3)-(0 x-1)\n",
    "    \n",
    "    = 6  (since 6 is non zero it means A has a determinant and it is invertible)\n",
    "\n",
    "Inverse of A = [[3,1],[0,2]]/6\n",
    "\n",
    "            = [[1/2,1/6],[0,1/3]]\n",
    "\n",
    "det(B)= (1x5)-(-2 x 4)\n",
    "    \n",
    "    = 5 - (-8) = 13  (since 13 is non zero it means B has a determinant and it is invertible)\n",
    "\n",
    "Inverse of B = [[5,-4],[2,1]] /13\n",
    "\n",
    "             = [[5/13,-4/13],[2/13,1/13]]"
   ]
  },
  {
   "cell_type": "code",
   "execution_count": 3,
   "id": "009e451e",
   "metadata": {},
   "outputs": [],
   "source": [
    "matA = np.array([[2,-1],[0,3]])\n",
    "matB= np.array([[1,4],[-2,5]])\n",
    "c =2\n",
    "d=3\n",
    "\n"
   ]
  },
  {
   "cell_type": "code",
   "execution_count": 4,
   "id": "6b262e51",
   "metadata": {},
   "outputs": [
    {
     "data": {
      "text/plain": [
       "array([[ 4, -2],\n",
       "       [ 0,  6]])"
      ]
     },
     "execution_count": 4,
     "metadata": {},
     "output_type": "execute_result"
    }
   ],
   "source": [
    "np.dot(c,matA)"
   ]
  },
  {
   "cell_type": "code",
   "execution_count": 5,
   "id": "67ca22c0",
   "metadata": {},
   "outputs": [
    {
     "data": {
      "text/plain": [
       "array([[ 4, -2],\n",
       "       [ 0,  6]])"
      ]
     },
     "execution_count": 5,
     "metadata": {},
     "output_type": "execute_result"
    }
   ],
   "source": [
    "np.dot(matA,c)"
   ]
  },
  {
   "cell_type": "code",
   "execution_count": 6,
   "id": "e67d084d",
   "metadata": {},
   "outputs": [
    {
     "data": {
      "text/plain": [
       "array([[ 3, 12],\n",
       "       [-6, 15]])"
      ]
     },
     "execution_count": 6,
     "metadata": {},
     "output_type": "execute_result"
    }
   ],
   "source": [
    "np.dot(d,matB)"
   ]
  },
  {
   "cell_type": "code",
   "execution_count": 7,
   "id": "ddc0d398",
   "metadata": {},
   "outputs": [
    {
     "data": {
      "text/plain": [
       "array([[ 3, 12],\n",
       "       [-6, 15]])"
      ]
     },
     "execution_count": 7,
     "metadata": {},
     "output_type": "execute_result"
    }
   ],
   "source": [
    "np.dot(matB,d)"
   ]
  },
  {
   "cell_type": "code",
   "execution_count": 8,
   "id": "835439f0",
   "metadata": {},
   "outputs": [
    {
     "data": {
      "text/plain": [
       "array([[10, -5],\n",
       "       [ 0, 15]])"
      ]
     },
     "execution_count": 8,
     "metadata": {},
     "output_type": "execute_result"
    }
   ],
   "source": [
    "np.dot((c+d),matA)"
   ]
  },
  {
   "cell_type": "code",
   "execution_count": 9,
   "id": "902032d6",
   "metadata": {},
   "outputs": [
    {
     "data": {
      "text/plain": [
       "array([[10, -5],\n",
       "       [ 0, 15]])"
      ]
     },
     "execution_count": 9,
     "metadata": {},
     "output_type": "execute_result"
    }
   ],
   "source": [
    "np.dot(c,matA) + np.dot(d,matA)"
   ]
  },
  {
   "cell_type": "code",
   "execution_count": 12,
   "id": "eae71c01",
   "metadata": {},
   "outputs": [
    {
     "name": "stdout",
     "output_type": "stream",
     "text": [
      "determinant of A is:  6.0\n"
     ]
    }
   ],
   "source": [
    "#geting determinant of A \n",
    "determinantA= np.linalg.det(matA)\n",
    "print(\"determinant of A is: \",determinantA )"
   ]
  },
  {
   "cell_type": "code",
   "execution_count": 13,
   "id": "b5c2adc2",
   "metadata": {},
   "outputs": [
    {
     "name": "stdout",
     "output_type": "stream",
     "text": [
      "determinant of B is:  13.0\n"
     ]
    }
   ],
   "source": [
    "#geting determinant of B \n",
    "determinantB= np.linalg.det(matB)\n",
    "print(\"determinant of B is: \",determinantB )"
   ]
  },
  {
   "cell_type": "code",
   "execution_count": 14,
   "id": "af357bf8",
   "metadata": {},
   "outputs": [
    {
     "data": {
      "text/plain": [
       "array([[0.5       , 0.16666667],\n",
       "       [0.        , 0.33333333]])"
      ]
     },
     "execution_count": 14,
     "metadata": {},
     "output_type": "execute_result"
    }
   ],
   "source": [
    "np.linalg.inv(matA)"
   ]
  },
  {
   "cell_type": "code",
   "execution_count": 15,
   "id": "ad54c703",
   "metadata": {},
   "outputs": [
    {
     "data": {
      "text/plain": [
       "array([[ 0.38461538, -0.30769231],\n",
       "       [ 0.15384615,  0.07692308]])"
      ]
     },
     "execution_count": 15,
     "metadata": {},
     "output_type": "execute_result"
    }
   ],
   "source": [
    "np.linalg.inv(matB)"
   ]
  }
 ],
 "metadata": {
  "kernelspec": {
   "display_name": "numpyvenv",
   "language": "python",
   "name": "python3"
  },
  "language_info": {
   "codemirror_mode": {
    "name": "ipython",
    "version": 3
   },
   "file_extension": ".py",
   "mimetype": "text/x-python",
   "name": "python",
   "nbconvert_exporter": "python",
   "pygments_lexer": "ipython3",
   "version": "3.12.4"
  }
 },
 "nbformat": 4,
 "nbformat_minor": 5
}
