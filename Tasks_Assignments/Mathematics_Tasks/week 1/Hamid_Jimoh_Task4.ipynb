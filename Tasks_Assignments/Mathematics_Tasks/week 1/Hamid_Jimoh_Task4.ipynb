{
 "cells": [
  {
   "cell_type": "markdown",
   "id": "1ee2ecfb",
   "metadata": {},
   "source": [
    "# TASK 3"
   ]
  },
  {
   "cell_type": "markdown",
   "id": "ba2a7359",
   "metadata": {},
   "source": [
    "# Question 3.1\n",
    "\n",
    "studentscores = ([[80,70,90],\n",
    "\n",
    "                  [60,85,75],\n",
    "\n",
    "                   [95,88,92],\n",
    "                   \n",
    "                   [70,60,65] ])\n",
    "\n",
    "# Question 3.2\n",
    "                total score for student 1 = 80 + 70 + 90\n",
    "                                          = 240\n",
    "                total score for student 2 = 60 + 85 + 75\n",
    "                                          = 220\n",
    "                total score for student 3 = 95 + 88 + 92\n",
    "                                          = 275\n",
    "                total score for student 4 = 70 + 60 + 65\n",
    "                                          = 195\n",
    "\n",
    "\n",
    "# Question 3.3\n",
    "\n",
    "**Applying weights (scalar multiplication)**\n",
    "\n",
    "weight = (2 ,1,1)\n",
    "\n",
    "weighted score = weight * (corresponding column studentscore)\n",
    "               2*([[80],[60],[95],[70])\n",
    "               = ([[160],[120],[190],[140]])\n",
    "\n",
    "               since the remaining columns are multiplied by 1 the value doesnt change \n",
    "               Therefore the resulting weighted score is given below\n",
    "\n",
    "               = ([[160,70,90],\n",
    "\n",
    "                  [120,85,75],\n",
    "\n",
    "                   [190,88,92],\n",
    "                   \n",
    "                   [140,60,65] ])\n",
    "\n",
    "\n",
    "# Question 3.4 \n",
    "\n",
    "   **Average score per subject**\n",
    "\n",
    "     colum_mathemean =   (80 + 60 + 95 + 70)/4\n",
    "                     =  76.25\n",
    "\n",
    "      columneng_mean = (70 + 85 + 88 + 60)/4\n",
    "                     =  75.75\n",
    "\n",
    "      column_sci_mean = (90 + 75 + 92 + 65)/4\n",
    "                      =  80.5\n",
    "\n",
    "\n",
    "# Question 3.5 \n",
    "\n",
    "for matrix multiplicatin, number of column in the first matrix must be equal to the number of row in the second matrix\n",
    "\n",
    "\n",
    "final score = ([[80,70,90],[60,85,75],[95,88,92],[70,60,65] ])   * ([[2],[1],[1]])\n",
    "\n",
    "([\n",
    "   [80*2 + 70*1 + 90*1],\n",
    "\n",
    "   [60*2 + 85*1 + 75*1],\n",
    "\n",
    "   [95*2 + 88*1 + 92*1],\n",
    "\n",
    "   [70*2 + 60*1 + 65*1]\n",
    "])\n",
    "\n",
    "final grade  = ([\n",
    "                     [300]\n",
    "\n",
    "                     [280]\n",
    "\n",
    "                     [370]\n",
    "\n",
    "                     [265]\n",
    "])\n",
    "\n",
    "\n",
    "\n",
    "# Questiob 3.6 \n",
    "\n",
    "comparing student 1 and 3 \n",
    "\n",
    "we have  300 - 370 = -70 \n",
    "\n",
    "which means student 1 performed 70 weight less than student 2 "
   ]
  },
  {
   "cell_type": "code",
   "execution_count": 4,
   "id": "57746bae",
   "metadata": {},
   "outputs": [],
   "source": [
    "import numpy as np"
   ]
  },
  {
   "cell_type": "code",
   "execution_count": 12,
   "id": "83472e38",
   "metadata": {},
   "outputs": [
    {
     "name": "stdout",
     "output_type": "stream",
     "text": [
      "The sum of student1 scores is:  240 \n",
      "\n",
      "The sum of student2 scores is:  220 \n",
      "\n",
      "The sum of student3 scores is:  275 \n",
      "\n",
      "The sum of student4 scores is:  195 \n",
      "\n"
     ]
    }
   ],
   "source": [
    "# Question 3.1\n",
    "studentscores = np.array([[80,70,90],[60,85,75], [95,88,92],[70,60,65] ])\n",
    " \n",
    "\n",
    "# Question 3.2\n",
    "sumstudent1 = studentscores[0].sum()\n",
    "sumstudent2 = studentscores[1].sum()\n",
    "sumstudent3 = studentscores[2].sum()\n",
    "sumstudent4 = studentscores[3].sum()\n",
    "\n",
    "print(\"The sum of student1 scores is: \",sumstudent1,\"\\n\")\n",
    "print(\"The sum of student2 scores is: \",sumstudent2,\"\\n\")\n",
    "print(\"The sum of student3 scores is: \",sumstudent3,\"\\n\")\n",
    "print(\"The sum of student4 scores is: \",sumstudent4,\"\\n\")"
   ]
  },
  {
   "cell_type": "code",
   "execution_count": null,
   "id": "4cf6f121",
   "metadata": {},
   "outputs": [
    {
     "data": {
      "text/plain": [
       "array([[160,  70,  90],\n",
       "       [120,  85,  75],\n",
       "       [190,  88,  92],\n",
       "       [140,  60,  65]])"
      ]
     },
     "execution_count": 14,
     "metadata": {},
     "output_type": "execute_result"
    }
   ],
   "source": [
    "# Question 3.3\n",
    "\n",
    "weight = (2 ,1,1)\n",
    "# scalar multiplication of vectors \n",
    "weightedscore = weight * studentscores\n",
    "weightedscore"
   ]
  },
  {
   "cell_type": "code",
   "execution_count": 16,
   "id": "967acfc9",
   "metadata": {},
   "outputs": [
    {
     "name": "stdout",
     "output_type": "stream",
     "text": [
      "The Average score for mathematics is :  76.25 \n",
      "\n",
      "The Average score for English is :  75.75 \n",
      "\n",
      "The Average score for science is :  80.5 \n",
      "\n"
     ]
    }
   ],
   "source": [
    "# Question 3.4\n",
    "\n",
    "averagemath = studentscores[:,0].mean()\n",
    "averageenglish = studentscores[:,1].mean()\n",
    "averagesci = studentscores[:,2].mean()\n",
    "\n",
    "print(\"The Average score for mathematics is : \",averagemath,\"\\n\")\n",
    "print(\"The Average score for English is : \",averageenglish,\"\\n\")\n",
    "print(\"The Average score for science is : \",averagesci,\"\\n\")"
   ]
  },
  {
   "cell_type": "code",
   "execution_count": 20,
   "id": "5e09461a",
   "metadata": {},
   "outputs": [
    {
     "name": "stdout",
     "output_type": "stream",
     "text": [
      "The final scores are:\n",
      "  [[320]\n",
      " [280]\n",
      " [370]\n",
      " [265]]\n"
     ]
    }
   ],
   "source": [
    "#Question 3.5\n",
    "weightmatrix = np.array([[2],[1],[1]])\n",
    "finalscore = np.dot(studentscores,weightmatrix)\n",
    "print(\"The final scores are:\\n \",finalscore)"
   ]
  },
  {
   "cell_type": "code",
   "execution_count": 22,
   "id": "86a4a924",
   "metadata": {},
   "outputs": [
    {
     "name": "stdout",
     "output_type": "stream",
     "text": [
      "Did student1 and student two performed differently?  False\n"
     ]
    }
   ],
   "source": [
    "#Question 3.6 \n",
    "# comparing student one and three\n",
    "\n",
    "compare = np.array_equal(finalscore[0],finalscore[2])\n",
    "print(\"Did student1 and student two performed differently? \", compare)"
   ]
  }
 ],
 "metadata": {
  "kernelspec": {
   "display_name": "taskvenv",
   "language": "python",
   "name": "python3"
  },
  "language_info": {
   "codemirror_mode": {
    "name": "ipython",
    "version": 3
   },
   "file_extension": ".py",
   "mimetype": "text/x-python",
   "name": "python",
   "nbconvert_exporter": "python",
   "pygments_lexer": "ipython3",
   "version": "3.13.7"
  }
 },
 "nbformat": 4,
 "nbformat_minor": 5
}
