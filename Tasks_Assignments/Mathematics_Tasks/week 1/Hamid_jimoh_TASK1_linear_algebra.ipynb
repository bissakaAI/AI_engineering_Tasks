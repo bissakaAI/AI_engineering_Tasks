{
 "cells": [
  {
   "cell_type": "markdown",
   "id": "581aea3c",
   "metadata": {},
   "source": [
    "Class Task1\n",
    "\n",
    "QUESTION 1\n",
    "\n",
    "Examples of vectors:\n",
    "\n",
    "State Vectors: This is a type of vector that is used to describe the state or position of a system.\n",
    "Use case\n",
    "It is used in quantum physics to describe the state of electrons spin using vector space diagrams\n",
    "\n",
    "Velocity Vector: This tells us how fast an object is moving in a particular direction \n",
    "\n",
    "Use case:\n",
    "It is used in the aviation industry for controlling and monitoring flights \n",
    "\n",
    "Force vectors: This vector is used to describe the force acting on an object either pull or push \n",
    "\t\tUse case \n",
    "\t\tA good example is the construction industry.Engineers can determine shear                  \n",
    "and stress impact using vector addition and multiplication\n",
    "\n",
    "\n",
    "QUESTION 2\n",
    "\n",
    "Vector is important in machine learning because the problems of the world are problems that has  a relationship with humans and basically multi dimensional objects .In other to make this problems relatable to the computer, some form of simplification has to be done which is where vector operations come in\n",
    "\n",
    "Question 3\n",
    "Polynomial as a coefficient Vector\n",
    "Addition of polynomials\n"
   ]
  }
 ],
 "metadata": {
  "language_info": {
   "name": "python"
  }
 },
 "nbformat": 4,
 "nbformat_minor": 5
}
