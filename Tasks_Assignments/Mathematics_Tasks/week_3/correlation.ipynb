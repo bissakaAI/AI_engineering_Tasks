{
 "cells": [
  {
   "cell_type": "markdown",
   "id": "4df644d3",
   "metadata": {},
   "source": [
    "# Task correlation"
   ]
  },
  {
   "cell_type": "code",
   "execution_count": 31,
   "id": "33fdfcbe",
   "metadata": {},
   "outputs": [],
   "source": [
    "import pandas as pd\n",
    "import numpy as np\n",
    "import matplotlib.pyplot  as plt\n",
    "import gdown\n",
    "import seaborn as sns\n",
    "\n",
    "from scipy import stats"
   ]
  },
  {
   "cell_type": "code",
   "execution_count": 12,
   "id": "0d3504ff",
   "metadata": {},
   "outputs": [
    {
     "name": "stderr",
     "output_type": "stream",
     "text": [
      "Downloading...\n",
      "From: https://drive.google.com/uc?id=1yB5qSBOLl96Y563nIewKOU8RN_gsY3dO\n",
      "To: c:\\Users\\ncc7888\\Desktop\\AI_engineering_Tasks\\Tasks_Assignments\\Mathematics_Tasks\\week_3\\data.csv\n",
      "100%|██████████| 52.0k/52.0k [00:00<00:00, 229kB/s]\n"
     ]
    },
    {
     "data": {
      "text/plain": [
       "'data.csv'"
      ]
     },
     "execution_count": 12,
     "metadata": {},
     "output_type": "execute_result"
    }
   ],
   "source": [
    "\n",
    "file_id = '1yB5qSBOLl96Y563nIewKOU8RN_gsY3dO'  # Make sure it's a string\n",
    "gdown.download(f'https://drive.google.com/uc?id={file_id}', 'data.csv', quiet=False)"
   ]
  },
  {
   "cell_type": "code",
   "execution_count": 6,
   "id": "97c23192",
   "metadata": {},
   "outputs": [
    {
     "data": {
      "text/html": [
       "<div>\n",
       "<style scoped>\n",
       "    .dataframe tbody tr th:only-of-type {\n",
       "        vertical-align: middle;\n",
       "    }\n",
       "\n",
       "    .dataframe tbody tr th {\n",
       "        vertical-align: top;\n",
       "    }\n",
       "\n",
       "    .dataframe thead th {\n",
       "        text-align: right;\n",
       "    }\n",
       "</style>\n",
       "<table border=\"1\" class=\"dataframe\">\n",
       "  <thead>\n",
       "    <tr style=\"text-align: right;\">\n",
       "      <th></th>\n",
       "      <th>Unnamed: 0</th>\n",
       "      <th>country</th>\n",
       "      <th>food_category</th>\n",
       "      <th>consumption</th>\n",
       "      <th>co2_emission</th>\n",
       "    </tr>\n",
       "  </thead>\n",
       "  <tbody>\n",
       "    <tr>\n",
       "      <th>0</th>\n",
       "      <td>1</td>\n",
       "      <td>Argentina</td>\n",
       "      <td>pork</td>\n",
       "      <td>10.51</td>\n",
       "      <td>37.20</td>\n",
       "    </tr>\n",
       "    <tr>\n",
       "      <th>1</th>\n",
       "      <td>2</td>\n",
       "      <td>Argentina</td>\n",
       "      <td>poultry</td>\n",
       "      <td>38.66</td>\n",
       "      <td>41.53</td>\n",
       "    </tr>\n",
       "    <tr>\n",
       "      <th>2</th>\n",
       "      <td>3</td>\n",
       "      <td>Argentina</td>\n",
       "      <td>beef</td>\n",
       "      <td>55.48</td>\n",
       "      <td>1712.00</td>\n",
       "    </tr>\n",
       "    <tr>\n",
       "      <th>3</th>\n",
       "      <td>4</td>\n",
       "      <td>Argentina</td>\n",
       "      <td>lamb_goat</td>\n",
       "      <td>1.56</td>\n",
       "      <td>54.63</td>\n",
       "    </tr>\n",
       "    <tr>\n",
       "      <th>4</th>\n",
       "      <td>5</td>\n",
       "      <td>Argentina</td>\n",
       "      <td>fish</td>\n",
       "      <td>4.36</td>\n",
       "      <td>6.96</td>\n",
       "    </tr>\n",
       "  </tbody>\n",
       "</table>\n",
       "</div>"
      ],
      "text/plain": [
       "   Unnamed: 0    country food_category  consumption  co2_emission\n",
       "0           1  Argentina          pork        10.51         37.20\n",
       "1           2  Argentina       poultry        38.66         41.53\n",
       "2           3  Argentina          beef        55.48       1712.00\n",
       "3           4  Argentina     lamb_goat         1.56         54.63\n",
       "4           5  Argentina          fish         4.36          6.96"
      ]
     },
     "execution_count": 6,
     "metadata": {},
     "output_type": "execute_result"
    }
   ],
   "source": [
    "df = pd.read_csv('data.csv')\n",
    "df.head()"
   ]
  },
  {
   "cell_type": "code",
   "execution_count": 4,
   "id": "b5f4fcae",
   "metadata": {},
   "outputs": [],
   "source": [
    "from scipy import stats"
   ]
  },
  {
   "cell_type": "code",
   "execution_count": 7,
   "id": "c374fc40",
   "metadata": {},
   "outputs": [
    {
     "data": {
      "text/plain": [
       "array(['pork', 'poultry', 'beef', 'lamb_goat', 'fish', 'eggs', 'dairy',\n",
       "       'wheat', 'rice', 'soybeans', 'nuts'], dtype=object)"
      ]
     },
     "execution_count": 7,
     "metadata": {},
     "output_type": "execute_result"
    }
   ],
   "source": [
    "df['food_category'].unique()"
   ]
  },
  {
   "cell_type": "code",
   "execution_count": 15,
   "id": "6488c558",
   "metadata": {},
   "outputs": [
    {
     "data": {
      "text/plain": [
       "array(['Argentina', 'Australia', 'Albania', 'Iceland', 'New Zealand',\n",
       "       'USA', 'Uruguay', 'Luxembourg', 'Brazil', 'Kazakhstan', 'Sweden',\n",
       "       'Bermuda', 'Denmark', 'Finland', 'Ireland', 'Greece', 'France',\n",
       "       'Canada', 'Norway', 'Hong Kong SAR. China', 'French Polynesia',\n",
       "       'Israel', 'Switzerland', 'Netherlands', 'Kuwait', 'United Kingdom',\n",
       "       'Austria', 'Oman', 'Italy', 'Bahamas', 'Portugal', 'Malta',\n",
       "       'Armenia', 'Slovenia', 'Chile', 'Venezuela', 'Belgium', 'Germany',\n",
       "       'Russia', 'Croatia', 'Belarus', 'Spain', 'Paraguay',\n",
       "       'New Caledonia', 'South Africa', 'Barbados', 'Lithuania', 'Turkey',\n",
       "       'Estonia', 'Mexico', 'Costa Rica', 'Bolivia', 'Ecuador', 'Panama',\n",
       "       'Czech Republic', 'Romania', 'Colombia', 'Maldives', 'Cyprus',\n",
       "       'Serbia', 'United Arab Emirates', 'Algeria', 'Ukraine', 'Pakistan',\n",
       "       'Swaziland', 'Latvia', 'Bosnia and Herzegovina', 'Fiji',\n",
       "       'South Korea', 'Poland', 'Saudi Arabia', 'Botswana', 'Macedonia',\n",
       "       'Hungary', 'Trinidad and Tobago', 'Tunisia', 'Egypt', 'Mauritius',\n",
       "       'Bulgaria', 'Morocco', 'Slovakia', 'Niger', 'Kenya', 'Jordan',\n",
       "       'Japan', 'Georgia', 'Grenada', 'El Salvador', 'Cuba', 'China',\n",
       "       'Honduras', 'Taiwan. ROC', 'Angola', 'Jamaica', 'Namibia',\n",
       "       'Belize', 'Malaysia', 'Zimbabwe', 'Guatemala', 'Uganda', 'Nepal',\n",
       "       'Iran', 'Tanzania', 'Senegal', 'Peru', 'Nicaragua', 'Vietnam',\n",
       "       'Ethiopia', 'Myanmar', 'Congo', 'Zambia', 'Cameroon', 'Madagascar',\n",
       "       'Malawi', 'Guinea', 'Nigeria', 'Rwanda', 'Philippines', 'Ghana',\n",
       "       'Togo', 'Gambia', 'India', 'Thailand', 'Mozambique', 'Cambodia',\n",
       "       'Sierra Leone', 'Sri Lanka', 'Indonesia', 'Liberia', 'Bangladesh'],\n",
       "      dtype=object)"
      ]
     },
     "execution_count": 15,
     "metadata": {},
     "output_type": "execute_result"
    }
   ],
   "source": [
    "df['country'].unique()"
   ]
  },
  {
   "cell_type": "code",
   "execution_count": 9,
   "id": "0faaffbf",
   "metadata": {},
   "outputs": [
    {
     "data": {
      "text/html": [
       "<div>\n",
       "<style scoped>\n",
       "    .dataframe tbody tr th:only-of-type {\n",
       "        vertical-align: middle;\n",
       "    }\n",
       "\n",
       "    .dataframe tbody tr th {\n",
       "        vertical-align: top;\n",
       "    }\n",
       "\n",
       "    .dataframe thead th {\n",
       "        text-align: right;\n",
       "    }\n",
       "</style>\n",
       "<table border=\"1\" class=\"dataframe\">\n",
       "  <thead>\n",
       "    <tr style=\"text-align: right;\">\n",
       "      <th></th>\n",
       "      <th>Unnamed: 0</th>\n",
       "      <th>country</th>\n",
       "      <th>food_category</th>\n",
       "      <th>consumption</th>\n",
       "      <th>co2_emission</th>\n",
       "    </tr>\n",
       "  </thead>\n",
       "  <tbody>\n",
       "    <tr>\n",
       "      <th>2</th>\n",
       "      <td>3</td>\n",
       "      <td>Argentina</td>\n",
       "      <td>beef</td>\n",
       "      <td>55.48</td>\n",
       "      <td>1712.0</td>\n",
       "    </tr>\n",
       "  </tbody>\n",
       "</table>\n",
       "</div>"
      ],
      "text/plain": [
       "   Unnamed: 0    country food_category  consumption  co2_emission\n",
       "2           3  Argentina          beef        55.48        1712.0"
      ]
     },
     "execution_count": 9,
     "metadata": {},
     "output_type": "execute_result"
    }
   ],
   "source": [
    "# in need to first get the table for the beef consumptions in the two countries \n",
    "\n",
    "beefconArg = df[(df['country']=='Argentina') & (df['food_category']=='beef')]\n",
    "beefconArg"
   ]
  },
  {
   "cell_type": "code",
   "execution_count": 12,
   "id": "9a29ae2c",
   "metadata": {},
   "outputs": [
    {
     "name": "stdout",
     "output_type": "stream",
     "text": [
      "The mean beef consumption in Argentina is:  55.48\n"
     ]
    }
   ],
   "source": [
    "argbeefconsmean = beefconArg['consumption'].mean()\n",
    "print('The mean beef consumption in Argentina is: ',argbeefconsmean)"
   ]
  },
  {
   "cell_type": "code",
   "execution_count": 14,
   "id": "feb77527",
   "metadata": {},
   "outputs": [
    {
     "data": {
      "text/plain": [
       "array([45.60775332, 55.36407472, 67.58168251, 53.22441308, 56.37894646,\n",
       "       53.06166636, 53.83574322, 58.69774308, 56.85702907, 55.29279431,\n",
       "       55.25782555, 52.90999919, 47.63646102, 60.48808837, 58.35910717,\n",
       "       46.09329893, 60.66122153, 56.07639329, 62.77405139, 60.26410615,\n",
       "       51.52383907, 62.42869735, 56.79795195, 48.8250272 , 51.06440015,\n",
       "       56.30340614, 61.80904207, 50.59915454, 47.43346041, 47.76784412])"
      ]
     },
     "execution_count": 14,
     "metadata": {},
     "output_type": "execute_result"
    }
   ],
   "source": [
    "# The values for beef are not enough so i need to simulatmoreusing a standard deviation of 5\n",
    "\n",
    "simulated_argbeeef = np.random.normal(loc=argbeefconsmean,scale=5,size=30)\n",
    "simulated_argbeeef"
   ]
  },
  {
   "cell_type": "code",
   "execution_count": 16,
   "id": "b8282126",
   "metadata": {},
   "outputs": [
    {
     "data": {
      "text/html": [
       "<div>\n",
       "<style scoped>\n",
       "    .dataframe tbody tr th:only-of-type {\n",
       "        vertical-align: middle;\n",
       "    }\n",
       "\n",
       "    .dataframe tbody tr th {\n",
       "        vertical-align: top;\n",
       "    }\n",
       "\n",
       "    .dataframe thead th {\n",
       "        text-align: right;\n",
       "    }\n",
       "</style>\n",
       "<table border=\"1\" class=\"dataframe\">\n",
       "  <thead>\n",
       "    <tr style=\"text-align: right;\">\n",
       "      <th></th>\n",
       "      <th>Unnamed: 0</th>\n",
       "      <th>country</th>\n",
       "      <th>food_category</th>\n",
       "      <th>consumption</th>\n",
       "      <th>co2_emission</th>\n",
       "    </tr>\n",
       "  </thead>\n",
       "  <tbody>\n",
       "    <tr>\n",
       "      <th>1421</th>\n",
       "      <td>1422</td>\n",
       "      <td>Bangladesh</td>\n",
       "      <td>beef</td>\n",
       "      <td>1.28</td>\n",
       "      <td>39.5</td>\n",
       "    </tr>\n",
       "  </tbody>\n",
       "</table>\n",
       "</div>"
      ],
      "text/plain": [
       "      Unnamed: 0     country food_category  consumption  co2_emission\n",
       "1421        1422  Bangladesh          beef         1.28          39.5"
      ]
     },
     "execution_count": 16,
     "metadata": {},
     "output_type": "execute_result"
    }
   ],
   "source": [
    "# in need to first get the table for the beef consumptions in the two countries \n",
    "\n",
    "beefconbag = df[(df['country']=='Bangladesh') & (df['food_category']=='beef')]\n",
    "beefconbag"
   ]
  },
  {
   "cell_type": "code",
   "execution_count": null,
   "id": "cacd122a",
   "metadata": {},
   "outputs": [
    {
     "name": "stdout",
     "output_type": "stream",
     "text": [
      "The mean beef consumption in bangladesh is:  1.28\n",
      "standard deviation is :  nan\n"
     ]
    }
   ],
   "source": [
    "bagbeefconsmean = beefconbag['consumption'].mean()\n",
    "print('The mean beef consumption in bangladesh is: ',bagbeefconsmean)\n"
   ]
  },
  {
   "cell_type": "code",
   "execution_count": 38,
   "id": "a852e8f7",
   "metadata": {},
   "outputs": [],
   "source": [
    "# The values for beef are not enough so i need to simulate more using a standard deviation of 5\n",
    "\n",
    "simulated_bagbeeef = np.random.normal(loc=bagbeefconsmean,scale=5,size=30)\n",
    "simulated_bagbeeef=np.absolute(simulated_bagbeeef)"
   ]
  },
  {
   "cell_type": "markdown",
   "id": "51c209eb",
   "metadata": {},
   "source": [
    "Is the beef consumption in Argentina significantly different from that in Bangladesh?\n",
    "\n",
    "H₀: Mean beef consumption (Argentina) = Mean beef consumption (Bangladesh)\n",
    "\n",
    "H₁: Mean beef consumption (Argentina) ≠ Mean beef consumption (Bangladesh)"
   ]
  },
  {
   "cell_type": "code",
   "execution_count": 40,
   "id": "479047dd",
   "metadata": {},
   "outputs": [
    {
     "name": "stdout",
     "output_type": "stream",
     "text": [
      "correlation 0.03975990715415372\n",
      "pvalue 0.8347584335377984\n"
     ]
    }
   ],
   "source": [
    "corr,p_val = stats.pearsonr(simulated_argbeeef,simulated_bagbeeef)\n",
    "print('correlation',corr)\n",
    "print('pvalue',p_val)"
   ]
  },
  {
   "cell_type": "markdown",
   "id": "eb833a9d",
   "metadata": {},
   "source": [
    "since the correlation is 0.03 it means that it the districution of comsumption for argentina and bangkadesh has very weak corellation"
   ]
  },
  {
   "cell_type": "code",
   "execution_count": 39,
   "id": "ea084256",
   "metadata": {},
   "outputs": [
    {
     "data": {
      "image/png": "[encoded data removed]",
      "text/plain": [
       "<Figure size 800x600 with 1 Axes>"
      ]
     },
     "metadata": {},
     "output_type": "display_data"
    }
   ],
   "source": [
    "plt.figure(figsize=(8,6))\n",
    "sns.scatterplot(x=simulated_argbeeef,y=simulated_bagbeeef)\n",
    "plt.title(\"Consumption vs CO₂ Emission\")\n",
    "plt.show()"
   ]
  }
 ],
 "metadata": {
  "kernelspec": {
   "display_name": "taskvenv",
   "language": "python",
   "name": "python3"
  },
  "language_info": {
   "codemirror_mode": {
    "name": "ipython",
    "version": 3
   },
   "file_extension": ".py",
   "mimetype": "text/x-python",
   "name": "python",
   "nbconvert_exporter": "python",
   "pygments_lexer": "ipython3",
   "version": "3.13.7"
  }
 },
 "nbformat": 4,
 "nbformat_minor": 5
}
