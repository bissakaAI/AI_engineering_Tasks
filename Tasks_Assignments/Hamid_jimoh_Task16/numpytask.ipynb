{
 "cells": [
  {
   "cell_type": "markdown",
   "id": "fdc29c7b",
   "metadata": {},
   "source": [
    "# Mathematics Task"
   ]
  },
  {
   "cell_type": "markdown",
   "id": "05e6006f",
   "metadata": {},
   "source": [
    "Question A"
   ]
  },
  {
   "cell_type": "code",
   "execution_count": 2,
   "id": "d056a9f9",
   "metadata": {},
   "outputs": [],
   "source": [
    "import numpy as np"
   ]
  },
  {
   "cell_type": "code",
   "execution_count": 3,
   "id": "5606fa9a",
   "metadata": {},
   "outputs": [],
   "source": [
    "matA = np.array([[2,-1],[0,3]])\n",
    "matB= np.array([[1,4],[-2,5]])\n",
    "c =2\n",
    "d=3\n"
   ]
  },
  {
   "cell_type": "code",
   "execution_count": 4,
   "id": "ff5455a4",
   "metadata": {},
   "outputs": [],
   "source": [
    "left =np.dot(c,matA)\n",
    "right = np.dot(matA,c)"
   ]
  },
  {
   "cell_type": "code",
   "execution_count": 5,
   "id": "85781172",
   "metadata": {},
   "outputs": [
    {
     "name": "stdout",
     "output_type": "stream",
     "text": [
      "The output of cA is:\n",
      " [[ 4 -2]\n",
      " [ 0  6]]\n"
     ]
    }
   ],
   "source": [
    "print(\"The output of cA is:\\n\",left)"
   ]
  },
  {
   "cell_type": "code",
   "execution_count": 6,
   "id": "1e3600fd",
   "metadata": {},
   "outputs": [],
   "source": [
    "left2 =np.dot(d,matB)\n",
    "right2 =np.dot(matB,d)"
   ]
  },
  {
   "cell_type": "code",
   "execution_count": 7,
   "id": "72be0350",
   "metadata": {},
   "outputs": [
    {
     "name": "stdout",
     "output_type": "stream",
     "text": [
      "The output of dB is:\n",
      " [[ 3 12]\n",
      " [-6 15]]\n"
     ]
    }
   ],
   "source": [
    "print(\"The output of dB is:\\n\",left2)"
   ]
  },
  {
   "cell_type": "code",
   "execution_count": 8,
   "id": "e5c3ad96",
   "metadata": {},
   "outputs": [],
   "source": [
    "left3 = np.dot((c+d),matA)\n",
    "right3 = np.dot(c,matA) + np.dot(d,matA)"
   ]
  },
  {
   "cell_type": "code",
   "execution_count": 9,
   "id": "af7ed852",
   "metadata": {},
   "outputs": [
    {
     "name": "stdout",
     "output_type": "stream",
     "text": [
      "The output of (c+d)A is:\n",
      " [[10 -5]\n",
      " [ 0 15]]\n"
     ]
    }
   ],
   "source": [
    "print(\"The output of (c+d)A is:\\n\",left3)"
   ]
  },
  {
   "cell_type": "markdown",
   "id": "afa6fa70",
   "metadata": {},
   "source": [
    "Associativity of scalar multiplication"
   ]
  },
  {
   "cell_type": "code",
   "execution_count": 10,
   "id": "982a3acf",
   "metadata": {},
   "outputs": [
    {
     "name": "stdout",
     "output_type": "stream",
     "text": [
      "The statement cA obeys the associativity property of scalar multiplication is:  True\n"
     ]
    }
   ],
   "source": [
    "associativity = np.array_equal(left,right)\n",
    "print(\"The statement cA obeys the associativity property of scalar multiplication is: \", associativity)"
   ]
  },
  {
   "cell_type": "code",
   "execution_count": 11,
   "id": "5a1637d1",
   "metadata": {},
   "outputs": [
    {
     "name": "stdout",
     "output_type": "stream",
     "text": [
      "The statement dB obeys the associativity property of scalar multiplication is:  True\n"
     ]
    }
   ],
   "source": [
    "associativity2 = np.array_equal(left2,right2)\n",
    "print(\"The statement dB obeys the associativity property of scalar multiplication is: \", associativity)"
   ]
  },
  {
   "cell_type": "code",
   "execution_count": 12,
   "id": "c2b12c93",
   "metadata": {},
   "outputs": [
    {
     "name": "stdout",
     "output_type": "stream",
     "text": [
      "The statement (c+d)A obeys the distributive property over scalar multiplication is:  True\n"
     ]
    }
   ],
   "source": [
    "distributive = np.array_equal(left3,right3)\n",
    "print(\"The statement (c+d)A obeys the distributive property over scalar multiplication is: \", associativity)"
   ]
  },
  {
   "cell_type": "code",
   "execution_count": 13,
   "id": "54a80afe",
   "metadata": {},
   "outputs": [
    {
     "name": "stdout",
     "output_type": "stream",
     "text": [
      "determinant of A is:  6.0\n"
     ]
    }
   ],
   "source": [
    "#geting determinant of A \n",
    "determinantA= np.linalg.det(matA)\n",
    "print(\"determinant of A is: \",determinantA )"
   ]
  },
  {
   "cell_type": "code",
   "execution_count": 14,
   "id": "3cc69ffc",
   "metadata": {},
   "outputs": [
    {
     "name": "stdout",
     "output_type": "stream",
     "text": [
      "determinant of B is:  13.0\n"
     ]
    }
   ],
   "source": [
    "#geting determinant of B \n",
    "determinantB= np.linalg.det(matB)\n",
    "print(\"determinant of B is: \",determinantB )"
   ]
  },
  {
   "cell_type": "code",
   "execution_count": 15,
   "id": "c7ac1d2f",
   "metadata": {},
   "outputs": [],
   "source": [
    "matAinverse =np.linalg.inv(matA)\n",
    "matBinverse= np.linalg.inv(matB)"
   ]
  },
  {
   "cell_type": "code",
   "execution_count": 16,
   "id": "65cb3cd2",
   "metadata": {},
   "outputs": [
    {
     "name": "stdout",
     "output_type": "stream",
     "text": [
      "the inverse of matrix A is : \n",
      " [[0.5        0.16666667]\n",
      " [0.         0.33333333]] \n",
      "\n",
      "the inverse of matrix B is : \n",
      " [[ 0.38461538 -0.30769231]\n",
      " [ 0.15384615  0.07692308]]\n"
     ]
    }
   ],
   "source": [
    "print(\"the inverse of matrix A is : \\n\",matAinverse ,\"\\n\")\n",
    "\n",
    "\n",
    "print(\"the inverse of matrix B is : \\n\",matBinverse)"
   ]
  }
 ],
 "metadata": {
  "kernelspec": {
   "display_name": "Python 3",
   "language": "python",
   "name": "python3"
  },
  "language_info": {
   "codemirror_mode": {
    "name": "ipython",
    "version": 3
   },
   "file_extension": ".py",
   "mimetype": "text/x-python",
   "name": "python",
   "nbconvert_exporter": "python",
   "pygments_lexer": "ipython3",
   "version": "3.13.7"
  }
 },
 "nbformat": 4,
 "nbformat_minor": 5
}
